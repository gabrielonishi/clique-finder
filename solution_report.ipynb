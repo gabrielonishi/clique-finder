{
 "cells": [
  {
   "cell_type": "markdown",
   "metadata": {},
   "source": [
    "# Solution Report\n",
    "\n",
    "This file aims to study each approach, detailing it's main strategy as well as weighting in on it's advantages and disadvantages\n",
    "\n",
    "**Important Note:** If you want to run this report, be sure you are using a **Linux** distribution\n",
    "\n",
    "### Index\n",
    " - Setting up the Environment\n",
    " - Brute-Force\n",
    " - Open-MP\n",
    " - MPI\n",
    " - Comparison\n",
    "\n",
    "## Setting up the Environment\n",
    "\n",
    "To generate the example graphs, as well as checking if the cliques we found are correct, the `networkx` library is used. Let's make sure that this library is installed"
   ]
  },
  {
   "cell_type": "code",
   "execution_count": 8,
   "metadata": {},
   "outputs": [
    {
     "name": "stdout",
     "output_type": "stream",
     "text": [
      "Defaulting to user installation because normal site-packages is not writeable\n",
      "Requirement already satisfied: networkx in /home/gabrielhso/.local/lib/python3.10/site-packages (2.6.3)\n",
      "Note: you may need to restart the kernel to use updated packages.\n"
     ]
    }
   ],
   "source": [
    "%pip install networkx"
   ]
  },
  {
   "cell_type": "markdown",
   "metadata": {},
   "source": [
    "Note that there aren't any graphs in the directory currently. Let's generate them using the `generate_graph.py` in the `scripts` folder. We will generate just one graph for now to be used as a test for the algorithms."
   ]
  },
  {
   "cell_type": "code",
   "execution_count": 1,
   "metadata": {},
   "outputs": [
    {
     "name": "stdout",
     "output_type": "stream",
     "text": [
      "Graph generated and saved at /home/gabrielhso/Desktop/insper/2023.2/superComp/maximum-clique-detection/graphs'.\n"
     ]
    }
   ],
   "source": [
    "# generate_graph.py args: argv[1] = n_edges, argv[2] = probability of connection, argv[3] = filename\n",
    "%run scripts/generate_graph.py 500 0.3 test_graph.txt"
   ]
  },
  {
   "cell_type": "markdown",
   "metadata": {},
   "source": [
    "## Brute-Force\n",
    "\n",
    "### Description\n",
    "The brute force approach to finding the maximum clique in a graph is a method that systematically explores all possible combinations of vertices to identify the largest complete subgraph, known as a clique. It starts with an initial vertex and iteratively adds vertices to a candidate clique, checking if the addition maintains the clique property. This exhaustive approach guarantees the optimality of the solution, but its computational complexity grows exponentially with the number of vertices, making it impractical for large graphs.\n",
    "\n",
    "### Running the Code\n",
    "\n",
    "As we will evaluate the efficiency of the algorithim itself, we won't compile it with the optimization options of the compiler (-O flag). Also, we will use the -g to include debug symbols.\n"
   ]
  },
  {
   "cell_type": "code",
   "execution_count": 2,
   "metadata": {},
   "outputs": [],
   "source": [
    "# Compiling\n",
    "!g++ -Wall -O3 -g scripts/brute_force.cpp -o ./executables/brute_force"
   ]
  },
  {
   "cell_type": "code",
   "execution_count": 3,
   "metadata": {},
   "outputs": [
    {
     "name": "stdout",
     "output_type": "stream",
     "text": [
      "Size of the maximum clique: 9\n",
      "Maximum clique found:\n",
      "[3, 36, 61, 259, 345, 361, 423, 433, 454]\n",
      "Tempo de execução: 78 ms\n"
     ]
    }
   ],
   "source": [
    "# Running\n",
    "!./executables/brute_force graphs/test_graph.txt"
   ]
  },
  {
   "cell_type": "markdown",
   "metadata": {},
   "source": [
    "Let's check the answer using the `check_answer.py` file"
   ]
  },
  {
   "cell_type": "code",
   "execution_count": 4,
   "metadata": {},
   "outputs": [
    {
     "name": "stdout",
     "output_type": "stream",
     "text": [
      "Size of the maximum clique:  9\n",
      "Maximum cliques found:\n",
      "[3, 36, 61, 259, 345, 361, 423, 433, 454]\n"
     ]
    }
   ],
   "source": [
    "%run scripts/check_answer.py graphs/test_graph.txt"
   ]
  },
  {
   "cell_type": "markdown",
   "metadata": {},
   "source": [
    "The answer checks out! Now let's have a look at the performance of the code"
   ]
  },
  {
   "cell_type": "code",
   "execution_count": 6,
   "metadata": {},
   "outputs": [
    {
     "name": "stdout",
     "output_type": "stream",
     "text": [
      "==36303== Callgrind, a call-graph generating cache profiler\n",
      "==36303== Copyright (C) 2002-2017, and GNU GPL'd, by Josef Weidendorfer et al.\n",
      "==36303== Using Valgrind-3.18.1 and LibVEX; rerun with -h for copyright info\n",
      "==36303== Command: ./executables/brute_force graphs/test_graph.txt\n",
      "==36303== \n",
      "==36303== For interactive control, run 'callgrind_control -h'.\n",
      "Size of the maximum clique: 9\n",
      "Maximum clique found:\n",
      "[3, 36, 61, 259, 345, 361, 423, 433, 454]\n",
      "Tempo de execução: 2173 ms\n",
      "==36303== \n",
      "==36303== Events    : Ir\n",
      "==36303== Collected : 764021343\n",
      "==36303== \n",
      "==36303== I   refs:      764,021,343\n"
     ]
    }
   ],
   "source": [
    "!valgrind --tool=callgrind --callgrind-out-file=brute_force.out ./executables/brute_force graphs/test_graph.txt"
   ]
  },
  {
   "cell_type": "code",
   "execution_count": 7,
   "metadata": {},
   "outputs": [
    {
     "name": "stdout",
     "output_type": "stream",
     "text": [
      "--------------------------------------------------------------------------------\n",
      "Profile data file 'brute_force.out' (creator: callgrind-3.18.1)\n",
      "--------------------------------------------------------------------------------\n",
      "I1 cache: \n",
      "D1 cache: \n",
      "LL cache: \n",
      "Timerange: Basic block 0 - 108346449\n",
      "Trigger: Program termination\n",
      "Profiled target:  ./executables/brute_force graphs/test_graph.txt (PID 36303, part 1)\n",
      "Events recorded:  Ir\n",
      "Events shown:     Ir\n",
      "Event sort order: Ir\n",
      "Thresholds:       99\n",
      "Include dirs:     \n",
      "User annotated:   scripts/brute_force.cpp\n",
      "Auto-annotation:  off\n",
      "\n",
      "--------------------------------------------------------------------------------\n",
      "Ir                   \n",
      "--------------------------------------------------------------------------------\n",
      "764,021,343 (100.0%)  PROGRAM TOTALS\n",
      "\n",
      "--------------------------------------------------------------------------------\n",
      "Ir                    file:function\n",
      "--------------------------------------------------------------------------------\n",
      "583,104,736 (76.32%)  scripts/brute_force.cpp:main [/home/gabrielhso/Desktop/insper/2023.2/superComp/maximum-clique-detection/executables/brute_force]\n",
      " 92,031,601 (12.05%)  /usr/include/c++/11/bits/stl_vector.h:main\n",
      " 20,098,462 ( 2.63%)  ???:std::istreambuf_iterator<char, std::char_traits<char> > std::num_get<char, std::istreambuf_iterator<char, std::char_traits<char> > >::_M_extract_int<long>(std::istreambuf_iterator<char, std::char_traits<char> >, std::istreambuf_iterator<char, std::char_traits<char> >, std::ios_base&, std::_Ios_Iostate&, long&) const [/usr/lib/x86_64-linux-gnu/libstdc++.so.6.0.30]\n",
      " 14,624,993 ( 1.91%)  ./malloc/./malloc/malloc.c:_int_free [/usr/lib/x86_64-linux-gnu/libc.so.6]\n",
      "  9,500,376 ( 1.24%)  ./malloc/./malloc/malloc.c:malloc [/usr/lib/x86_64-linux-gnu/libc.so.6]\n",
      "  5,016,594 ( 0.66%)  ./malloc/./malloc/malloc.c:free [/usr/lib/x86_64-linux-gnu/libc.so.6]\n",
      "  4,648,294 ( 0.61%)  ???:std::istream::sentry::sentry(std::istream&, bool) [/usr/lib/x86_64-linux-gnu/libstdc++.so.6.0.30]\n",
      "  4,270,344 ( 0.56%)  /usr/include/c++/11/bits/vector.tcc:void std::vector<int, std::allocator<int> >::_M_realloc_insert<int const&>(__gnu_cxx::__normal_iterator<int*, std::vector<int, std::allocator<int> > >, int const&) [/home/gabrielhso/Desktop/insper/2023.2/superComp/maximum-clique-detection/executables/brute_force]\n",
      "  4,048,488 ( 0.53%)  ???:std::istream::operator>>(int&) [/usr/lib/x86_64-linux-gnu/libstdc++.so.6.0.30]\n",
      "  2,736,312 ( 0.36%)  ???:operator new(unsigned long) [/usr/lib/x86_64-linux-gnu/libstdc++.so.6.0.30]\n",
      "  2,594,316 ( 0.34%)  /usr/include/c++/11/bits/stl_vector.h:void std::vector<int, std::allocator<int> >::_M_realloc_insert<int const&>(__gnu_cxx::__normal_iterator<int*, std::vector<int, std::allocator<int> > >, int const&)\n",
      "  2,474,076 ( 0.32%)  ???:0x000000000012faf0 [/usr/lib/x86_64-linux-gnu/libstdc++.so.6.0.30]\n",
      "  2,134,672 ( 0.28%)  /usr/include/c++/11/ext/new_allocator.h:void std::vector<int, std::allocator<int> >::_M_realloc_insert<int const&>(__gnu_cxx::__normal_iterator<int*, std::vector<int, std::allocator<int> > >, int const&)\n",
      "  1,984,326 ( 0.26%)  ./string/../sysdeps/x86_64/multiarch/memmove-vec-unaligned-erms.S:__memcpy_avx_unaligned_erms [/usr/lib/x86_64-linux-gnu/libc.so.6]\n",
      "  1,677,028 ( 0.22%)  /usr/include/c++/11/bits/stl_uninitialized.h:void std::vector<int, std::allocator<int> >::_M_realloc_insert<int const&>(__gnu_cxx::__normal_iterator<int*, std::vector<int, std::allocator<int> > >, int const&)\n",
      "  1,574,643 ( 0.21%)  ???:0x000000000012b240 [/usr/lib/x86_64-linux-gnu/libstdc++.so.6.0.30]\n",
      "  1,124,580 ( 0.15%)  ???:0x0000000000103500 [/usr/lib/x86_64-linux-gnu/libstdc++.so.6.0.30]\n",
      "    998,210 ( 0.13%)  ./elf/./elf/dl-lookup.c:_dl_lookup_symbol_x [/usr/lib/x86_64-linux-gnu/ld-linux-x86-64.so.2]\n",
      "    974,653 ( 0.13%)  scripts/brute_force.cpp:readGraph(std::__cxx11::basic_string<char, std::char_traits<char>, std::allocator<char> > const&, int&, int&) [/home/gabrielhso/Desktop/insper/2023.2/superComp/maximum-clique-detection/executables/brute_force]\n",
      "    718,758 ( 0.09%)  /usr/include/c++/11/ext/new_allocator.h:main\n",
      "    684,081 ( 0.09%)  ./malloc/./malloc/arena.c:free\n",
      "\n",
      "--------------------------------------------------------------------------------\n",
      "-- User-annotated source: scripts/brute_force.cpp\n",
      "--------------------------------------------------------------------------------\n",
      "Ir                   \n",
      "\n",
      "-- line 6 ----------------------------------------\n",
      "          .           \n",
      "          .           #include <chrono>\n",
      "          .           \n",
      "          .           using namespace std;\n",
      "          .           \n",
      "          .           bool sort_by_id(int id_1, int id_2) { return (id_1 < id_2); }\n",
      "          .           \n",
      "          .           vector<vector<int>> readGraph(const string &fileName, int &numNodes, int &numEdges)\n",
      "         15 ( 0.00%)  {\n",
      "          .               ifstream file(fileName);\n",
      "          6 ( 0.00%)      file >> numNodes >> numEdges;\n",
      "      6,625 ( 0.00%)  => ???:0x000000000010a360 (2x)\n",
      "          .           \n",
      "          2 ( 0.00%)      vector<vector<int>> graph(numNodes, vector<int>(numNodes, 0));\n",
      "          .           \n",
      "    149,947 ( 0.02%)      for (int i = 0; i < numEdges; ++i)\n",
      "          .               {\n",
      "          .                   int u, v;\n",
      "    224,911 ( 0.03%)          file >> u >> v;\n",
      " 35,171,036 ( 4.60%)  => ???:0x000000000010a360 (74,970x)\n",
      "    299,880 ( 0.04%)          graph[u - 1][v - 1] = 1;\n",
      "    299,880 ( 0.04%)          graph[v - 1][u - 1] = 1;\n",
      "          .               }\n",
      "          .           \n",
      "          .               file.close();\n",
      "          .           \n",
      "          .               return graph;\n",
      "         12 ( 0.00%)  }\n",
      "          .           \n",
      "          .           void printIntVector(vector<int> &vector)\n",
      "          .           {\n",
      "          .               for (unsigned int i = 0; i < vector.size(); i++)\n",
      "          .               {\n",
      "          .                   cout << vector[i] << \" \";\n",
      "          .               }\n",
      "          .           \n",
      "          .               cout << endl;\n",
      "          .           }\n",
      "          .           \n",
      "          .           void printOutput(vector<int> &maximumClique)\n",
      "          9 ( 0.00%)  {\n",
      "          .               cout << \"Size of the maximum clique: \" << maximumClique.size() << endl;\n",
      "          .               cout << \"Maximum clique found:\" << endl;\n",
      "          .               cout << \"[\";\n",
      "          .           \n",
      "          .               sort(maximumClique.begin(), maximumClique.end(), sort_by_id);\n",
      "          .           \n",
      "          .               unsigned int i = 0;\n",
      "          .           \n",
      "         42 ( 0.00%)      for (i = 0; i < maximumClique.size() - 1; i++)\n",
      "          .               {\n",
      "         40 ( 0.00%)          cout << maximumClique[i] + 1 << \", \";\n",
      "      5,592 ( 0.00%)  => ???:0x000000000010a4e0 (8x)\n",
      "          .               }\n",
      "          .           \n",
      "          5 ( 0.00%)      cout << maximumClique[i] + 1 << \"]\" << endl;\n",
      "        440 ( 0.00%)  => ???:0x000000000010a4e0 (1x)\n",
      "          7 ( 0.00%)  }\n",
      "          .           \n",
      "          .           int main(int argc, char *argv[])\n",
      "         13 ( 0.00%)  {\n",
      "          2 ( 0.00%)      auto inicio = chrono::high_resolution_clock::now();\n",
      "        881 ( 0.00%)  => ???:0x000000000010a2c0 (1x)\n",
      "          .           \n",
      "          2 ( 0.00%)      if (argc != 2)\n",
      "          .               {\n",
      "          .                   cout << \"Run the program with the graph file as an argument (e.g., ./main graph.txt)\" << endl;\n",
      "          .                   return 1;\n",
      "          .               }\n",
      "          .           \n",
      "          1 ( 0.00%)      string fileName = argv[1];\n",
      "          .           \n",
      "          .               int numNodes, numEdges;\n",
      "          .           \n",
      "          7 ( 0.00%)      vector<vector<int>> graph = readGraph(fileName, numNodes, numEdges);\n",
      " 36,509,137 ( 4.78%)  => scripts/brute_force.cpp:readGraph(std::__cxx11::basic_string<char, std::char_traits<char>, std::allocator<char> > const&, int&, int&) (1x)\n",
      "          .           \n",
      "          .               vector<int> maximumClique;\n",
      "      2,504 ( 0.00%)      for (int currentNode = 0; currentNode < numNodes; currentNode++)\n",
      "          .               {\n",
      "          .                   vector<int> connections;\n",
      "  1,153,440 ( 0.15%)          for (int node = 0; node < numNodes; node++)\n",
      "          .                   {\n",
      "  1,500,000 ( 0.20%)              if (graph[currentNode][node] == 1)\n",
      "          .                           connections.push_back(node);\n",
      "          .                   }\n",
      "          .           \n",
      "    226,410 ( 0.03%)          for (int connection1 : connections)\n",
      "          .                   {\n",
      "          .                       vector<int> clique = {currentNode, connection1};\n",
      " 56,559,880 ( 7.40%)              for (int connection2 : connections)\n",
      "          .                       {\n",
      " 11,296,982 ( 1.48%)                  bool inClique = true;\n",
      "185,020,213 (24.22%)                  for (int member : clique)\n",
      "          .                           {\n",
      "119,581,148 (15.65%)                      if (graph[member][connection2] == 0)\n",
      "185,020,213 (24.22%)                          inClique = false;\n",
      "          .                           }\n",
      " 22,593,964 ( 2.96%)                  if (inClique)\n",
      "          .                               clique.push_back(connection2);\n",
      "          .                       }\n",
      "    149,940 ( 0.02%)              if (clique.size() > maximumClique.size())\n",
      "          .                           maximumClique = clique;\n",
      "          .                   }\n",
      "          .               }\n",
      "          .           \n",
      "          2 ( 0.00%)      printOutput(maximumClique);\n",
      "     19,649 ( 0.00%)  => scripts/brute_force.cpp:printOutput(std::vector<int, std::allocator<int> >&) (1x)\n",
      "          .           \n",
      "          1 ( 0.00%)      auto fim = chrono::high_resolution_clock::now();\n",
      "         30 ( 0.00%)  => ???:0x000000000010a2c0 (1x)\n",
      "          .               auto duracao = chrono::duration_cast<std::chrono::milliseconds>(fim - inicio);\n",
      "          .               cout << \"Tempo de execução: \" << duracao.count() << \" ms\\n\";\n",
      "          .               \n",
      "          1 ( 0.00%)      return 0;\n",
      "         16 ( 0.00%)  }     98,093 ( 0.01%)  => /usr/include/c++/11/bits/stl_vector.h:std::vector<std::vector<int, std::allocator<int> >, std::allocator<std::vector<int, std::allocator<int> > > >::~vector() (1x)\n",
      "\n",
      "--------------------------------------------------------------------------------\n",
      "Ir                   \n",
      "--------------------------------------------------------------------------------\n",
      "584,079,495 (76.45%)  events annotated\n",
      "\n"
     ]
    }
   ],
   "source": [
    "!callgrind_annotate brute_force.out scripts/brute_force.cpp --auto=no"
   ]
  },
  {
   "cell_type": "markdown",
   "metadata": {},
   "source": [
    "Ao expandir a saída do `annotate`, é possível enxergar que as partes do código com maior proporção de execuções destinadas são:\n",
    "\n",
    "Scripts e biblioteca\n",
    " - 76.21%: `brute_force.cpp` (o próprio código em c)\n",
    " - 12.04%: `stl_vector.h:main` (biblioteca vector)\n",
    " - 11.75%: outras bibliotecas\n",
    "\n",
    "Não temos uma maneira de melhorar o código da biblioteca, então teremos que nos ater à mudança no nosso código.\n",
    "\n",
    "Dentre as partes do programa, nota-se que: \n",
    " - 4.83% das execuções são na função de ler o grafo `ReadGraph`\n",
    " - 75,83% das execuções ocorrem na seguinte parte:\n",
    "\n",
    "```c++\n",
    "( 0.03%)           for (int connection1 : connections)\n",
    "                   {\n",
    "                       vector<int> clique = {currentNode, connection1}; // Move initialization here\n",
    "( 7.43%)               for (int connection2 : connections)\n",
    "                       {\n",
    "( 1.48%)                   bool inClique = true;\n",
    "(24.16%)                   for (int member : clique)\n",
    "                           {\n",
    "(15.61%)                       if (graph[member][connection2] == 0)\n",
    "(24.16%)                       inClique = false;\n",
    "                           }\n",
    "( 2.97%)                    if (inClique)\n",
    "                                clique.push_back(connection2);\n",
    "                        }\n",
    "( 0.02%)                if (clique.size() > maximumClique.size())\n",
    "                        maximumClique = clique;\n",
    "                   }\n",
    "               }\n",
    "```"
   ]
  },
  {
   "cell_type": "markdown",
   "metadata": {},
   "source": [
    "It seems that the issue is in the inner loops. Let's try to parallelize the code to make it faster."
   ]
  },
  {
   "cell_type": "markdown",
   "metadata": {},
   "source": [
    "## Open-MP"
   ]
  },
  {
   "cell_type": "markdown",
   "metadata": {},
   "source": [
    "### Description\n",
    "\n",
    "### Running the code"
   ]
  },
  {
   "cell_type": "code",
   "execution_count": 9,
   "metadata": {},
   "outputs": [],
   "source": [
    "# Compiling\n",
    "!g++ -Wall -O3 -fopenmp scripts/open_mp.cpp -o ./executables/open_mp"
   ]
  },
  {
   "cell_type": "code",
   "execution_count": 10,
   "metadata": {},
   "outputs": [
    {
     "name": "stdout",
     "output_type": "stream",
     "text": [
      "Size of the maximum clique: 9\n",
      "Maximum clique found:\n",
      "[3, 36, 61, 259, 345, 361, 423, 433, 454]\n",
      "Tempo de execução: 22 ms\n"
     ]
    }
   ],
   "source": [
    "# Running\n",
    "!./executables/open_mp graphs/test_graph.txt"
   ]
  },
  {
   "cell_type": "markdown",
   "metadata": {},
   "source": [
    "## MPI\n",
    "\n",
    "### Description\n",
    "\n",
    "### Running the Code\n",
    "\n",
    "As seen in the description, we need to run the code on a cluster environment."
   ]
  },
  {
   "cell_type": "markdown",
   "metadata": {},
   "source": [
    "## Comparison"
   ]
  },
  {
   "cell_type": "markdown",
   "metadata": {},
   "source": [
    "Making graphs of different sizes"
   ]
  },
  {
   "cell_type": "code",
   "execution_count": 14,
   "metadata": {},
   "outputs": [
    {
     "name": "stdout",
     "output_type": "stream",
     "text": [
      "Graph generated and saved at /home/gabrielhso/Desktop/insper/2023.2/superComp/maximum-clique-detection/graphs'.\n",
      "Graph generated and saved at /home/gabrielhso/Desktop/insper/2023.2/superComp/maximum-clique-detection/graphs'.\n",
      "Graph generated and saved at /home/gabrielhso/Desktop/insper/2023.2/superComp/maximum-clique-detection/graphs'.\n",
      "Graph generated and saved at /home/gabrielhso/Desktop/insper/2023.2/superComp/maximum-clique-detection/graphs'.\n",
      "Graph generated and saved at /home/gabrielhso/Desktop/insper/2023.2/superComp/maximum-clique-detection/graphs'.\n",
      "Graph generated and saved at /home/gabrielhso/Desktop/insper/2023.2/superComp/maximum-clique-detection/graphs'.\n",
      "Graph generated and saved at /home/gabrielhso/Desktop/insper/2023.2/superComp/maximum-clique-detection/graphs'.\n",
      "Graph generated and saved at /home/gabrielhso/Desktop/insper/2023.2/superComp/maximum-clique-detection/graphs'.\n",
      "Graph generated and saved at /home/gabrielhso/Desktop/insper/2023.2/superComp/maximum-clique-detection/graphs'.\n",
      "Graph generated and saved at /home/gabrielhso/Desktop/insper/2023.2/superComp/maximum-clique-detection/graphs'.\n"
     ]
    }
   ],
   "source": [
    "#Making graphs of sizes 100, 200, 300, 400, 500, 600, 700, 800, 900, 1000\n",
    "sizes = [100, 200, 300, 400, 500, 600, 700, 800, 900, 1000]\n",
    "graph_names = list()\n",
    "\n",
    "for size in sizes:\n",
    "    %run scripts/generate_graph.py {size} 0.5 graph_{size}\n",
    "    graph_names.append(f\"graph_{size}.txt\")\n"
   ]
  },
  {
   "cell_type": "markdown",
   "metadata": {},
   "source": [
    "Fetching data from `brute_force.cpp` and `open_mp.cpp` files"
   ]
  },
  {
   "cell_type": "code",
   "execution_count": 26,
   "metadata": {},
   "outputs": [
    {
     "name": "stdout",
     "output_type": "stream",
     "text": [
      "['Tempo', 'de', 'execução:', '2', 'ms']\n",
      "2\n"
     ]
    }
   ],
   "source": [
    "# We can fetch the time data by splitting the program output\n",
    "output = !./executables/brute_force graphs/graph_100.txt\n",
    "print(output[-1].split(\" \"))\n",
    "print(output[-1].split(\" \")[-2])"
   ]
  },
  {
   "cell_type": "code",
   "execution_count": 47,
   "metadata": {},
   "outputs": [],
   "source": [
    "brute_force_times = list()\n",
    "open_mp_times = list()\n",
    "\n",
    "for graph in graph_names:\n",
    "    output_brute_force = !./executables/brute_force graphs/{graph}\n",
    "    brute_force_times.append(int(output_brute_force[-1].split(\" \")[-2]))\n",
    "    output_open_mp = !./executables/open_mp graphs/{graph}\n",
    "    open_mp_times.append(int(output_open_mp[-1].split(\" \")[-2]))"
   ]
  },
  {
   "cell_type": "code",
   "execution_count": 48,
   "metadata": {},
   "outputs": [],
   "source": [
    "job_ids = [i for i in range(654, 664)]\n",
    "MPI_times = list()\n",
    "\n",
    "for job_id in job_ids:\n",
    "    with open(f\"slurm-out/slurm-{job_id}.out\", \"r\") as f:\n",
    "        MPI_times.append(int(f.read().split(\" \")[-2]))\n"
   ]
  },
  {
   "cell_type": "code",
   "execution_count": 49,
   "metadata": {},
   "outputs": [
    {
     "name": "stdout",
     "output_type": "stream",
     "text": [
      "[2, 11, 35, 74, 150, 253, 396, 611, 890, 1356]\n",
      "[1, 6, 16, 36, 70, 122, 193, 292, 426, 617]\n",
      "[279, 309, 292, 292, 385, 510, 864, 928, 1179, 1614]\n"
     ]
    }
   ],
   "source": [
    "print(brute_force_times)\n",
    "print(open_mp_times)\n",
    "print(MPI_times)"
   ]
  },
  {
   "cell_type": "code",
   "execution_count": 50,
   "metadata": {},
   "outputs": [
    {
     "data": {
      "image/png": "[encoded data removed]",
      "text/plain": [
       "<Figure size 640x480 with 1 Axes>"
      ]
     },
     "metadata": {},
     "output_type": "display_data"
    }
   ],
   "source": [
    "import matplotlib.pyplot as plt\n",
    "\n",
    "# Plotting the graph\n",
    "plt.plot(sizes, brute_force_times, label='Brute Force')\n",
    "plt.plot(sizes, open_mp_times, label='Open MP')\n",
    "plt.plot(sizes, MPI_times, label='MPI')\n",
    "plt.xlabel('Number of Nodes')\n",
    "plt.ylabel('Time (ms)')\n",
    "plt.title('Brute Force vs Open MP Times')\n",
    "plt.legend()\n",
    "plt.grid()\n",
    "plt.show()\n"
   ]
  }
 ],
 "metadata": {
  "kernelspec": {
   "display_name": "Python 3",
   "language": "python",
   "name": "python3"
  },
  "language_info": {
   "codemirror_mode": {
    "name": "ipython",
    "version": 3
   },
   "file_extension": ".py",
   "mimetype": "text/x-python",
   "name": "python",
   "nbconvert_exporter": "python",
   "pygments_lexer": "ipython3",
   "version": "3.10.12"
  }
 },
 "nbformat": 4,
 "nbformat_minor": 2
}
