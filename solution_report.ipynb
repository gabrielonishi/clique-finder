{
 "cells": [
  {
   "cell_type": "markdown",
   "metadata": {},
   "source": [
    "# Solution Report\n",
    "\n",
    "This file aims to study each approach, detailing it's main strategy as well as weighting in on it's advantages and disadvantages\n",
    "\n",
    "**Important Note:** If you want to run this report, be sure you are using a **Linux** distribution\n",
    "\n",
    "### Index\n",
    " - [Setting up the Environment](#setting-up-the-environment)\n",
    " - [Brute-Force](#brute-force)\n",
    "\n",
    "## Setting up the Environment\n",
    "\n",
    "To generate the example graphs, as well as checking if the cliques we found are correct, the `networkx` library is used. Let's make sure that this library is installed"
   ]
  },
  {
   "cell_type": "code",
   "execution_count": 8,
   "metadata": {},
   "outputs": [
    {
     "name": "stdout",
     "output_type": "stream",
     "text": [
      "Defaulting to user installation because normal site-packages is not writeable\n",
      "Requirement already satisfied: networkx in /home/gabrielhso/.local/lib/python3.10/site-packages (2.6.3)\n",
      "Note: you may need to restart the kernel to use updated packages.\n"
     ]
    }
   ],
   "source": [
    "%pip install networkx"
   ]
  },
  {
   "cell_type": "markdown",
   "metadata": {},
   "source": [
    "Note that there aren't any graphs in the directory currently. Let's generate them using the `generate_graph.py` in the `scripts` folder. We will generate 6 sets of graphs with different sizes and densities:\n",
    " - `small_low_density.txt`\n",
    " - `medium_low_density.txt`\n",
    " - `large_low_density`"
   ]
  },
  {
   "cell_type": "code",
   "execution_count": 9,
   "metadata": {},
   "outputs": [
    {
     "name": "stdout",
     "output_type": "stream",
     "text": [
      "Graph generated and saved at /home/gabrielhso/Desktop/insper/2023.2/superComp/maximum-clique-detection/graphs'.\n"
     ]
    }
   ],
   "source": [
    "# generate_graph.py args: argv[1] = n_edges, argv[2] = probability of connection, argv[3] = filename\n",
    "%run scripts/generate_graph.py 20 0.3 test"
   ]
  },
  {
   "cell_type": "markdown",
   "metadata": {},
   "source": [
    "## Brute-Force\n",
    "\n",
    "### Description\n",
    "The brute force approach to finding the maximum clique in a graph is a method that systematically explores all possible combinations of vertices to identify the largest complete subgraph, known as a clique. It starts with an initial vertex and iteratively adds vertices to a candidate clique, checking if the addition maintains the clique property. This exhaustive approach guarantees the optimality of the solution, but its computational complexity grows exponentially with the number of vertices, making it impractical for large graphs.\n",
    "\n",
    "### Running the Code\n",
    "\n",
    "As we will evaluate the efficiency of the algorithim itself, we won't compile it with the optimization options of the compiler (-O flag). Also, we will use the -g to include debug symbols.\n"
   ]
  },
  {
   "cell_type": "code",
   "execution_count": 23,
   "metadata": {},
   "outputs": [],
   "source": [
    "# Compiling\n",
    "!g++ -g scripts/brute_force.cpp -o ./scripts/brute_force"
   ]
  },
  {
   "cell_type": "code",
   "execution_count": 24,
   "metadata": {},
   "outputs": [
    {
     "name": "stdout",
     "output_type": "stream",
     "text": [
      "Size of the maximum clique: 4\n",
      "Maximum clique found:\n",
      "[1, 3, 5, 18]\n"
     ]
    }
   ],
   "source": [
    "# Running\n",
    "!./scripts/brute_force graphs/test.txt"
   ]
  },
  {
   "cell_type": "markdown",
   "metadata": {},
   "source": [
    "Let's check the answer using the `check_answer.py` file"
   ]
  },
  {
   "cell_type": "code",
   "execution_count": 25,
   "metadata": {},
   "outputs": [
    {
     "name": "stdout",
     "output_type": "stream",
     "text": [
      "Size of the maximum clique:  4\n",
      "Maximum cliques found:\n",
      "[1, 3, 5, 18]\n",
      "[2, 7, 10, 12]\n"
     ]
    }
   ],
   "source": [
    "%run scripts/check_answer.py graphs/test.txt"
   ]
  },
  {
   "cell_type": "markdown",
   "metadata": {},
   "source": [
    "### Profiling"
   ]
  },
  {
   "cell_type": "markdown",
   "metadata": {},
   "source": [
    "Now let's check the performance of this code"
   ]
  },
  {
   "cell_type": "code",
   "execution_count": 26,
   "metadata": {},
   "outputs": [],
   "source": [
    "!g++ -Wall -O0 -g scripts/brute_force.cpp -o scripts/brute_force"
   ]
  },
  {
   "cell_type": "code",
   "execution_count": 27,
   "metadata": {},
   "outputs": [
    {
     "name": "stdout",
     "output_type": "stream",
     "text": [
      "==52406== Callgrind, a call-graph generating cache profiler\n",
      "==52406== Copyright (C) 2002-2017, and GNU GPL'd, by Josef Weidendorfer et al.\n",
      "==52406== Using Valgrind-3.18.1 and LibVEX; rerun with -h for copyright info\n",
      "==52406== Command: ./scripts/brute_force\n",
      "==52406== \n",
      "==52406== For interactive control, run 'callgrind_control -h'.\n",
      "Run the program with the graph file as an argument (e.g., ./main graph.txt)\n",
      "==52406== \n",
      "==52406== Events    : Ir\n",
      "==52406== Collected : 2345238\n",
      "==52406== \n",
      "==52406== I   refs:      2,345,238\n"
     ]
    }
   ],
   "source": [
    "!valgrind --tool=callgrind ./scripts/brute_force"
   ]
  },
  {
   "cell_type": "code",
   "execution_count": 4,
   "metadata": {},
   "outputs": [
    {
     "name": "stdout",
     "output_type": "stream",
     "text": [
      "--------------------------------------------------------------------------------\n",
      "Profile data file 'callgrind.out.23473' (creator: callgrind-3.18.1)\n",
      "--------------------------------------------------------------------------------\n",
      "I1 cache: \n",
      "D1 cache: \n",
      "LL cache: \n",
      "Timerange: Basic block 0 - 376659\n",
      "Trigger: Program termination\n",
      "Profiled target:  ./scripts/brute_force (PID 23473, part 1)\n",
      "Events recorded:  Ir\n",
      "Events shown:     Ir\n",
      "Event sort order: Ir\n",
      "Thresholds:       99\n",
      "Include dirs:     \n",
      "User annotated:   scripts/brute_force.cpp\n",
      "Auto-annotation:  on\n",
      "\n",
      "--------------------------------------------------------------------------------\n",
      "Ir                 \n",
      "--------------------------------------------------------------------------------\n",
      "2,345,648 (100.0%)  PROGRAM TOTALS\n",
      "\n",
      "--------------------------------------------------------------------------------\n",
      "Ir                file:function\n",
      "--------------------------------------------------------------------------------\n",
      "987,882 (42.12%)  ./elf/./elf/dl-lookup.c:_dl_lookup_symbol_x [/usr/lib/x86_64-linux-gnu/ld-linux-x86-64.so.2]\n",
      "569,866 (24.29%)  ./elf/./elf/dl-lookup.c:do_lookup_x [/usr/lib/x86_64-linux-gnu/ld-linux-x86-64.so.2]\n",
      "261,545 (11.15%)  ./elf/../sysdeps/x86_64/dl-machine.h:_dl_relocate_object\n",
      "119,195 ( 5.08%)  ./elf/./elf/dl-lookup.c:check_match [/usr/lib/x86_64-linux-gnu/ld-linux-x86-64.so.2]\n",
      "109,010 ( 4.65%)  ./elf/./elf/do-rel.h:_dl_relocate_object\n",
      " 75,611 ( 3.22%)  ./string/../sysdeps/x86_64/strcmp.S:strcmp [/usr/lib/x86_64-linux-gnu/ld-linux-x86-64.so.2]\n",
      " 39,958 ( 1.70%)  ./elf/./elf/dl-tunables.c:__GI___tunables_init [/usr/lib/x86_64-linux-gnu/ld-linux-x86-64.so.2]\n",
      " 19,842 ( 0.85%)  ./elf/../sysdeps/generic/dl-protected.h:do_lookup_x\n",
      " 12,128 ( 0.52%)  ???:std::locale::_Impl::_M_install_facet(std::locale::id const*, std::locale::facet const*) [/usr/lib/x86_64-linux-gnu/libstdc++.so.6.0.30]\n",
      " 12,012 ( 0.51%)  ./elf/./elf/dl-version.c:_dl_check_map_versions [/usr/lib/x86_64-linux-gnu/ld-linux-x86-64.so.2]\n",
      " 10,965 ( 0.47%)  ./elf/../sysdeps/generic/ldsodefs.h:do_lookup_x\n",
      " 10,240 ( 0.44%)  ./wcsmbs/./wcsmbs/btowc.c:btowc [/usr/lib/x86_64-linux-gnu/libc.so.6]\n",
      " 10,230 ( 0.44%)  ./elf/../sysdeps/generic/ldsodefs.h:_dl_relocate_object\n",
      "  7,712 ( 0.33%)  ./elf/./elf/dl-runtime.c:_dl_fixup [/usr/lib/x86_64-linux-gnu/ld-linux-x86-64.so.2]\n",
      "  4,166 ( 0.18%)  ./elf/./elf/dl-reloc.c:_dl_relocate_object [/usr/lib/x86_64-linux-gnu/ld-linux-x86-64.so.2]\n",
      "  4,044 ( 0.17%)  ./elf/./elf/dl-cache.c:_dl_cache_libcmp [/usr/lib/x86_64-linux-gnu/ld-linux-x86-64.so.2]\n",
      "  3,782 ( 0.16%)  ./elf/./elf/dl-load.c:_dl_map_object_from_fd [/usr/lib/x86_64-linux-gnu/ld-linux-x86-64.so.2]\n",
      "  3,493 ( 0.15%)  ./elf/./elf/dl-tunables.h:__GI___tunables_init\n",
      "  3,456 ( 0.15%)  ./wcsmbs/./wcsmbs/wctob.c:wctob [/usr/lib/x86_64-linux-gnu/libc.so.6]\n",
      "  3,362 ( 0.14%)  ./elf/../sysdeps/x86_64/dl-trampoline.h:_dl_runtime_resolve_xsave [/usr/lib/x86_64-linux-gnu/ld-linux-x86-64.so.2]\n",
      "  3,085 ( 0.13%)  ./elf/../sysdeps/x86/dl-cacheinfo.h:intel_check_word.constprop.0 [/usr/lib/x86_64-linux-gnu/ld-linux-x86-64.so.2]\n",
      "  2,848 ( 0.12%)  ./elf/./elf/dl-misc.c:_dl_name_match_p [/usr/lib/x86_64-linux-gnu/ld-linux-x86-64.so.2]\n",
      "  2,733 ( 0.12%)  ???:std::ctype<wchar_t>::_M_initialize_ctype() [/usr/lib/x86_64-linux-gnu/libstdc++.so.6.0.30]\n",
      "  2,643 ( 0.11%)  ./libio/./libio/fileops.c:_IO_file_overflow@@GLIBC_2.2.5 [/usr/lib/x86_64-linux-gnu/libc.so.6]\n",
      "  2,243 ( 0.10%)  ./elf/./elf/dl-load.c:_dl_map_object [/usr/lib/x86_64-linux-gnu/ld-linux-x86-64.so.2]\n",
      "  2,226 ( 0.09%)  ./elf/./elf/dl-deps.c:_dl_map_object_deps [/usr/lib/x86_64-linux-gnu/ld-linux-x86-64.so.2]\n",
      "  2,222 ( 0.09%)  ./elf/../bits/stdlib-bsearch.h:intel_check_word.constprop.0\n",
      "  1,513 ( 0.06%)  ./elf/./elf/dl-load.c:open_verify.constprop.0 [/usr/lib/x86_64-linux-gnu/ld-linux-x86-64.so.2]\n",
      "  1,492 ( 0.06%)  ./elf/./elf/get-dynamic-info.h:_dl_map_object_from_fd\n",
      "  1,308 ( 0.06%)  ./elf/./elf/rtld.c:dl_main [/usr/lib/x86_64-linux-gnu/ld-linux-x86-64.so.2]\n",
      "  1,288 ( 0.05%)  ./elf/./elf/dl-cache.c:_dl_load_cache_lookup [/usr/lib/x86_64-linux-gnu/ld-linux-x86-64.so.2]\n",
      "  1,266 ( 0.05%)  ./elf/./elf/dl-load.c:open_path [/usr/lib/x86_64-linux-gnu/ld-linux-x86-64.so.2]\n",
      "  1,155 ( 0.05%)  ./libio/./libio/genops.c:_IO_default_xsputn [/usr/lib/x86_64-linux-gnu/libc.so.6]\n",
      "  1,129 ( 0.05%)  ./elf/./elf/dl-object.c:_dl_new_object [/usr/lib/x86_64-linux-gnu/ld-linux-x86-64.so.2]\n",
      "  1,115 ( 0.05%)  ./elf/./elf/dl-minimal-malloc.c:__minimal_malloc [/usr/lib/x86_64-linux-gnu/ld-linux-x86-64.so.2]\n",
      "  1,095 ( 0.05%)  ./string/../sysdeps/x86_64/multiarch/memcmp-avx2-movbe.S:__memcmp_avx2_movbe [/usr/lib/x86_64-linux-gnu/libc.so.6]\n",
      "  1,036 ( 0.04%)  ./wctype/./wctype/wctype_l.c:wctype_l [/usr/lib/x86_64-linux-gnu/libc.so.6]\n",
      "    978 ( 0.04%)  ./string/../sysdeps/x86_64/multiarch/strlen-avx2.S:__strlen_avx2 [/usr/lib/x86_64-linux-gnu/libc.so.6]\n",
      "    948 ( 0.04%)  ???:std::locale::id::_M_id() const [/usr/lib/x86_64-linux-gnu/libstdc++.so.6.0.30]\n",
      "    896 ( 0.04%)  ./wcsmbs/./wcsmbsload.h:btowc\n",
      "    883 ( 0.04%)  ./elf/../sysdeps/x86_64/dl-machine.h:_dl_start\n",
      "    823 ( 0.04%)  ./string/../sysdeps/x86_64/multiarch/strlen-vec.S:strlen [/usr/lib/x86_64-linux-gnu/ld-linux-x86-64.so.2]\n",
      "    816 ( 0.03%)  ./string/../sysdeps/x86_64/multiarch/memset-vec-unaligned-erms.S:memset [/usr/lib/x86_64-linux-gnu/ld-linux-x86-64.so.2]\n",
      "    815 ( 0.03%)  ./elf/./elf/do-rel.h:_dl_start\n",
      "    776 ( 0.03%)  ./malloc/./malloc/malloc.c:ptmalloc_init.part.0\n",
      "    774 ( 0.03%)  ./elf/../sysdeps/nptl/dl-tls_init_tp.c:rtld_mutex_dummy [/usr/lib/x86_64-linux-gnu/ld-linux-x86-64.so.2]\n",
      "    768 ( 0.03%)  ./elf/./elf/dl-hwcaps.c:_dl_important_hwcaps [/usr/lib/x86_64-linux-gnu/ld-linux-x86-64.so.2]\n",
      "    768 ( 0.03%)  ./elf/./elf/dl-profstub.c:_dl_mcount_wrapper_check [/usr/lib/x86_64-linux-gnu/libc.so.6]\n",
      "    768 ( 0.03%)  ./iconv/./iconv/gconv_simple.c:__gconv_btwoc_ascii [/usr/lib/x86_64-linux-gnu/libc.so.6]\n",
      "    744 ( 0.03%)  ./string/../sysdeps/x86_64/multiarch/../strchr.S:index [/usr/lib/x86_64-linux-gnu/ld-linux-x86-64.so.2]\n",
      "    740 ( 0.03%)  ./elf/./elf/dl-tunables.c:__tunable_get_val [/usr/lib/x86_64-linux-gnu/ld-linux-x86-64.so.2]\n",
      "    732 ( 0.03%)  ???:std::ctype<char>::_M_widen_init() const [/usr/lib/x86_64-linux-gnu/libstdc++.so.6.0.30]\n",
      "    730 ( 0.03%)  ./elf/./dl-map-segments.h:_dl_map_object_from_fd\n",
      "    705 ( 0.03%)  ./stdlib/./stdlib/cxa_finalize.c:__cxa_finalize [/usr/lib/x86_64-linux-gnu/libc.so.6]\n",
      "    666 ( 0.03%)  ???:std::locale::_Impl::_Impl(unsigned long) [/usr/lib/x86_64-linux-gnu/libstdc++.so.6.0.30]\n",
      "    629 ( 0.03%)  ./string/../sysdeps/x86_64/multiarch/memmove-vec-unaligned-erms.S:mempcpy [/usr/lib/x86_64-linux-gnu/ld-linux-x86-64.so.2]\n",
      "    596 ( 0.03%)  ./elf/../sysdeps/x86/dl-cacheinfo.h:handle_intel.constprop.0 [/usr/lib/x86_64-linux-gnu/ld-linux-x86-64.so.2]\n",
      "    576 ( 0.02%)  ./elf/../elf/dl-sysdep.c:_dl_sysdep_start [/usr/lib/x86_64-linux-gnu/ld-linux-x86-64.so.2]\n",
      "    551 ( 0.02%)  ./elf/./elf/dl-environ.c:_dl_next_ld_env_entry [/usr/lib/x86_64-linux-gnu/ld-linux-x86-64.so.2]\n",
      "    530 ( 0.02%)  ./elf/./elf/dl-sort-maps.c:dfs_traversal.part.0 [/usr/lib/x86_64-linux-gnu/ld-linux-x86-64.so.2]\n",
      "    517 ( 0.02%)  ???:0x00000000048f9a60 [???]\n",
      "    511 ( 0.02%)  ./string/../sysdeps/x86_64/multiarch/memmove-vec-unaligned-erms.S:memcpy [/usr/lib/x86_64-linux-gnu/ld-linux-x86-64.so.2]\n",
      "    502 ( 0.02%)  ./elf/../sysdeps/x86/dl-prop.h:_dl_map_object_from_fd\n",
      "    464 ( 0.02%)  ???:std::ios_base::ios_base() [/usr/lib/x86_64-linux-gnu/libstdc++.so.6.0.30]\n",
      "    437 ( 0.02%)  ./elf/./elf/dl-hwcaps_split.c:_dl_hwcaps_split_masked [/usr/lib/x86_64-linux-gnu/ld-linux-x86-64.so.2]\n",
      "    436 ( 0.02%)  ./elf/./dl-find_object.h:_dl_find_object_from_map [/usr/lib/x86_64-linux-gnu/ld-linux-x86-64.so.2]\n",
      "    429 ( 0.02%)  ./stdlib/./stdlib/cxa_atexit.c:__cxa_atexit [/usr/lib/x86_64-linux-gnu/libc.so.6]\n",
      "    423 ( 0.02%)  ./malloc/./malloc/malloc.c:_int_malloc [/usr/lib/x86_64-linux-gnu/libc.so.6]\n",
      "    421 ( 0.02%)  ./elf/./elf/dl-init.c:call_init.part.0 [/usr/lib/x86_64-linux-gnu/ld-linux-x86-64.so.2]\n",
      "    420 ( 0.02%)  ./elf/./elf/dl-error-skeleton.c:_dl_catch_exception [/usr/lib/x86_64-linux-gnu/ld-linux-x86-64.so.2]\n",
      "    414 ( 0.02%)  ./elf/./elf/dl-fini.c:_dl_fini [/usr/lib/x86_64-linux-gnu/ld-linux-x86-64.so.2]\n",
      "    414 ( 0.02%)  ???:std::__cxx11::numpunct<char>::_M_initialize_numpunct(__locale_struct*) [/usr/lib/x86_64-linux-gnu/libstdc++.so.6.0.30]\n",
      "    414 ( 0.02%)  ???:std::numpunct<char>::_M_initialize_numpunct(__locale_struct*) [/usr/lib/x86_64-linux-gnu/libstdc++.so.6.0.30]\n",
      "    400 ( 0.02%)  ./io/../sysdeps/unix/sysv/linux/open64_nocancel.c:__open_nocancel [/usr/lib/x86_64-linux-gnu/ld-linux-x86-64.so.2]\n",
      "\n",
      "--------------------------------------------------------------------------------\n",
      "-- User-annotated source: scripts/brute_force.cpp\n",
      "--------------------------------------------------------------------------------\n",
      "Ir          \n",
      "\n",
      "-- line 46 ----------------------------------------\n",
      " .               for (i; i < maximumClique.size() - 1; i++)\n",
      " .               {\n",
      " .                   cout << maximumClique[i] + 1 << \", \";\n",
      " .               }\n",
      " .               cout << maximumClique[i] + 1 << \"]\" << endl;\n",
      " .           }\n",
      " .           \n",
      " .           int main(int argc, char *argv[])\n",
      "12 ( 0.00%)  {\n",
      " 2 ( 0.00%)      if (argc != 2)\n",
      " .               {\n",
      " 9 ( 0.00%)          cout << \"Run the program with the graph file as an argument (e.g., ./main graph.txt)\" << endl;\n",
      "8,141 ( 0.35%)  => ???:0x000000000010a380 (1x)\n",
      "5,680 ( 0.24%)  => ???:0x000000000010a3b0 (1x)\n",
      " 2 ( 0.00%)          return 1;\n",
      " .               }\n",
      " .           \n",
      " .               string fileName = argv[1];\n",
      " .           \n",
      " .               int numNodes, numEdges;\n",
      " .           \n",
      " .               vector<vector<int>> graph = readGraph(fileName, numNodes, numEdges);\n",
      " .           \n",
      "-- line 66 ----------------------------------------\n",
      "-- line 91 ----------------------------------------\n",
      " .                       if (clique.size() > maximumClique.size())\n",
      " .                           maximumClique = clique;\n",
      " .                   }\n",
      " .               }\n",
      " .           \n",
      " .               printOutput(maximumClique);\n",
      " .           \n",
      " .               return 0;\n",
      "31 ( 0.00%)  }102,987 ( 4.39%)  => scripts/brute_force.cpp:__static_initialization_and_destruction_0(int, int) (1x)\n",
      "\n",
      "--------------------------------------------------------------------------------\n",
      "The following files chosen for auto-annotation could not be found:\n",
      "--------------------------------------------------------------------------------\n",
      "  ./elf/../bits/stdlib-bsearch.h\n",
      "  ./elf/../elf/dl-sysdep.c\n",
      "  ./elf/../sysdeps/generic/dl-protected.h\n",
      "  ./elf/../sysdeps/generic/ldsodefs.h\n",
      "  ./elf/../sysdeps/nptl/dl-tls_init_tp.c\n",
      "  ./elf/../sysdeps/x86/dl-cacheinfo.h\n",
      "  ./elf/../sysdeps/x86/dl-prop.h\n",
      "  ./elf/../sysdeps/x86_64/dl-machine.h\n",
      "  ./elf/../sysdeps/x86_64/dl-trampoline.h\n",
      "  ./elf/./dl-find_object.h\n",
      "  ./elf/./dl-map-segments.h\n",
      "  ./elf/./elf/dl-cache.c\n",
      "  ./elf/./elf/dl-deps.c\n",
      "  ./elf/./elf/dl-environ.c\n",
      "  ./elf/./elf/dl-error-skeleton.c\n",
      "  ./elf/./elf/dl-fini.c\n",
      "  ./elf/./elf/dl-hwcaps.c\n",
      "  ./elf/./elf/dl-hwcaps_split.c\n",
      "  ./elf/./elf/dl-init.c\n",
      "  ./elf/./elf/dl-load.c\n",
      "  ./elf/./elf/dl-lookup.c\n",
      "  ./elf/./elf/dl-minimal-malloc.c\n",
      "  ./elf/./elf/dl-misc.c\n",
      "  ./elf/./elf/dl-object.c\n",
      "  ./elf/./elf/dl-profstub.c\n",
      "  ./elf/./elf/dl-reloc.c\n",
      "  ./elf/./elf/dl-runtime.c\n",
      "  ./elf/./elf/dl-sort-maps.c\n",
      "  ./elf/./elf/dl-tunables.c\n",
      "  ./elf/./elf/dl-tunables.h\n",
      "  ./elf/./elf/dl-version.c\n",
      "  ./elf/./elf/do-rel.h\n",
      "  ./elf/./elf/get-dynamic-info.h\n",
      "  ./elf/./elf/rtld.c\n",
      "  ./iconv/./iconv/gconv_simple.c\n",
      "  ./io/../sysdeps/unix/sysv/linux/open64_nocancel.c\n",
      "  ./libio/./libio/fileops.c\n",
      "  ./libio/./libio/genops.c\n",
      "  ./malloc/./malloc/malloc.c\n",
      "  ./stdlib/./stdlib/cxa_atexit.c\n",
      "  ./stdlib/./stdlib/cxa_finalize.c\n",
      "  ./string/../sysdeps/x86_64/multiarch/../strchr.S\n",
      "  ./string/../sysdeps/x86_64/multiarch/memcmp-avx2-movbe.S\n",
      "  ./string/../sysdeps/x86_64/multiarch/memmove-vec-unaligned-erms.S\n",
      "  ./string/../sysdeps/x86_64/multiarch/memset-vec-unaligned-erms.S\n",
      "  ./string/../sysdeps/x86_64/multiarch/strlen-avx2.S\n",
      "  ./string/../sysdeps/x86_64/multiarch/strlen-vec.S\n",
      "  ./string/../sysdeps/x86_64/strcmp.S\n",
      "  ./wcsmbs/./wcsmbs/btowc.c\n",
      "  ./wcsmbs/./wcsmbs/wctob.c\n",
      "  ./wcsmbs/./wcsmbsload.h\n",
      "  ./wctype/./wctype/wctype_l.c\n",
      "\n",
      "--------------------------------------------------------------------------------\n",
      "Ir          \n",
      "--------------------------------------------------------------------------------\n",
      "56 ( 0.00%)  events annotated\n",
      "\n"
     ]
    }
   ],
   "source": [
    "!callgrind_annotate callgrind.out.23473 scripts/brute_force.cpp"
   ]
  },
  {
   "cell_type": "markdown",
   "metadata": {},
   "source": []
  }
 ],
 "metadata": {
  "kernelspec": {
   "display_name": "Python 3",
   "language": "python",
   "name": "python3"
  },
  "language_info": {
   "codemirror_mode": {
    "name": "ipython",
    "version": 3
   },
   "file_extension": ".py",
   "mimetype": "text/x-python",
   "name": "python",
   "nbconvert_exporter": "python",
   "pygments_lexer": "ipython3",
   "version": "3.10.12"
  }
 },
 "nbformat": 4,
 "nbformat_minor": 2
}
