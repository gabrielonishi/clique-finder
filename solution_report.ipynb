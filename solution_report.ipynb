{
 "cells": [
  {
   "cell_type": "markdown",
   "metadata": {},
   "source": [
    "# Solution Report\n",
    "\n",
    "This file aims to study each approach, detailing it's main strategy as well as weighting in on it's advantages and disadvantages\n",
    "\n",
    "**Important Note:** If you want to run this report, be sure you are using a **Linux** distribution\n",
    "\n",
    "### Index\n",
    " - Setting up the Environment\n",
    " - Brute-Force\n",
    " - Open-MP\n",
    " - MPI\n",
    " - Comparison\n",
    "\n",
    "## Setting up the Environment\n",
    "\n",
    "To generate the example graphs, as well as checking if the cliques we found are correct, the `networkx` library is used. Let's make sure that this library is installed"
   ]
  },
  {
   "cell_type": "code",
   "execution_count": 2,
   "metadata": {},
   "outputs": [
    {
     "name": "stdout",
     "output_type": "stream",
     "text": [
      "Defaulting to user installation because normal site-packages is not writeable\n",
      "Requirement already satisfied: networkx in /home/gabrielhso/.local/lib/python3.10/site-packages (2.6.3)\n",
      "Note: you may need to restart the kernel to use updated packages.\n"
     ]
    }
   ],
   "source": [
    "%pip install networkx"
   ]
  },
  {
   "cell_type": "markdown",
   "metadata": {},
   "source": [
    "Note that there aren't any graphs in the directory currently. Let's generate them using the `generate_graph.py` in the `scripts` folder. We will generate just one graph for now to be used as a test for the algorithms."
   ]
  },
  {
   "cell_type": "code",
   "execution_count": 3,
   "metadata": {},
   "outputs": [
    {
     "name": "stdout",
     "output_type": "stream",
     "text": [
      "Graph generated and saved at /home/gabrielhso/Desktop/insper/2023.2/superComp/maximum-clique-detection/graphs'.\n"
     ]
    }
   ],
   "source": [
    "# generate_graph.py args: argv[1] = n_edges, argv[2] = probability of connection, argv[3] = filename\n",
    "%run scripts/generate_graph.py 500 0.3 test_graph.txt"
   ]
  },
  {
   "cell_type": "markdown",
   "metadata": {},
   "source": [
    "## Brute-Force\n",
    "\n",
    "### Description\n",
    "The brute force approach to finding the maximum clique in a graph is a method that systematically explores all possible combinations of vertices to identify the largest complete subgraph, known as a clique. It starts with an initial vertex and iteratively adds vertices to a candidate clique, checking if the addition maintains the clique property. This exhaustive approach guarantees the optimality of the solution, but its computational complexity grows exponentially with the number of vertices, making it impractical for large graphs.\n",
    "\n",
    "### Running the Code\n",
    "\n",
    "As we will evaluate the efficiency of the algorithim itself, we won't compile it with the optimization options of the compiler (-O flag). Also, we will use the -g to include debug symbols.\n"
   ]
  },
  {
   "cell_type": "code",
   "execution_count": 4,
   "metadata": {},
   "outputs": [],
   "source": [
    "# Compiling\n",
    "!g++ -Wall -O3 -g scripts/brute_force.cpp -o ./executables/brute_force"
   ]
  },
  {
   "cell_type": "code",
   "execution_count": 5,
   "metadata": {},
   "outputs": [
    {
     "name": "stdout",
     "output_type": "stream",
     "text": [
      "Size of the maximum clique: 8\n",
      "Maximum clique found:\n",
      "[8, 12, 15, 183, 212, 228, 318, 402]\n",
      "Tempo de execução: 52 ms\n"
     ]
    }
   ],
   "source": [
    "# Running\n",
    "!./executables/brute_force graphs/test_graph.txt"
   ]
  },
  {
   "cell_type": "markdown",
   "metadata": {},
   "source": [
    "Let's check the answer using the `check_answer.py` file"
   ]
  },
  {
   "cell_type": "code",
   "execution_count": 6,
   "metadata": {},
   "outputs": [
    {
     "name": "stdout",
     "output_type": "stream",
     "text": [
      "Size of the maximum clique:  8\n",
      "Maximum cliques found:\n",
      "[27, 94, 107, 152, 187, 213, 279, 444]\n",
      "[21, 132, 412, 434, 466, 469, 483, 497]\n",
      "[15, 29, 66, 184, 344, 400, 434, 483]\n",
      "[41, 86, 231, 293, 413, 434, 469, 483]\n",
      "[15, 41, 231, 293, 413, 434, 469, 483]\n",
      "[15, 41, 110, 231, 293, 413, 434, 483]\n",
      "[58, 269, 274, 314, 389, 422, 454, 490]\n",
      "[65, 76, 404, 412, 454, 469, 490, 500]\n",
      "[89, 195, 270, 290, 327, 330, 420, 424]\n",
      "[89, 103, 195, 270, 290, 327, 330, 424]\n",
      "[89, 103, 195, 270, 290, 327, 379, 424]\n",
      "[18, 32, 109, 133, 297, 327, 338, 386]\n",
      "[18, 298, 317, 326, 327, 391, 420, 495]\n",
      "[85, 100, 104, 231, 269, 335, 409, 415]\n",
      "[85, 100, 231, 269, 335, 409, 415, 436]\n",
      "[5, 85, 90, 112, 401, 415, 475, 484]\n",
      "[6, 10, 58, 109, 153, 156, 159, 176]\n",
      "[5, 31, 160, 277, 307, 365, 424, 476]\n",
      "[90, 91, 98, 343, 355, 364, 475, 491]\n",
      "[29, 90, 91, 98, 355, 364, 475, 491]\n",
      "[128, 193, 240, 247, 359, 383, 435, 496]\n",
      "[27, 94, 243, 265, 320, 333, 407, 484]\n",
      "[44, 150, 210, 247, 308, 320, 368, 370]\n",
      "[133, 142, 165, 167, 297, 320, 338, 386]\n",
      "[30, 183, 263, 347, 394, 464, 469, 490]\n",
      "[51, 164, 194, 230, 262, 416, 429, 474]\n",
      "[137, 141, 164, 210, 220, 416, 474, 476]\n",
      "[17, 44, 150, 210, 247, 286, 319, 370]\n",
      "[17, 44, 150, 210, 247, 286, 368, 370]\n",
      "[11, 17, 65, 76, 92, 281, 370, 457]\n",
      "[61, 141, 152, 200, 228, 279, 319, 370]\n",
      "[37, 55, 122, 245, 302, 370, 462, 479]\n",
      "[37, 55, 122, 302, 370, 429, 462, 479]\n",
      "[38, 44, 55, 122, 301, 370, 429, 482]\n",
      "[17, 44, 150, 210, 247, 308, 368, 370]\n",
      "[88, 107, 164, 183, 243, 255, 289, 291]\n",
      "[107, 113, 164, 183, 243, 255, 289, 291]\n",
      "[46, 107, 130, 187, 281, 289, 423, 457]\n",
      "[107, 149, 163, 179, 213, 305, 360, 366]\n",
      "[107, 147, 149, 163, 179, 213, 305, 360]\n",
      "[13, 227, 262, 323, 386, 431, 432, 467]\n",
      "[8, 12, 15, 183, 212, 228, 318, 402]\n",
      "[17, 57, 62, 78, 79, 278, 307, 480]\n",
      "[55, 91, 122, 200, 245, 278, 302, 323]\n",
      "[8, 55, 102, 175, 209, 278, 317, 474]\n",
      "[17, 95, 109, 206, 231, 269, 275, 323]\n",
      "[58, 66, 114, 162, 232, 235, 269, 415]\n",
      "[18, 91, 111, 195, 269, 316, 439, 479]\n",
      "[100, 104, 206, 231, 269, 335, 409, 415]\n",
      "[100, 231, 269, 335, 386, 409, 415, 436]\n",
      "[95, 104, 206, 231, 269, 335, 409, 415]\n",
      "[32, 50, 65, 241, 284, 309, 377, 458]\n",
      "[58, 130, 237, 281, 342, 423, 466, 468]\n",
      "[34, 114, 283, 341, 389, 422, 423, 457]\n",
      "[21, 136, 192, 208, 341, 380, 389, 423]\n",
      "[31, 73, 164, 192, 250, 349, 423, 484]\n",
      "[3, 61, 109, 116, 206, 280, 383, 415]\n",
      "[23, 109, 116, 128, 247, 280, 371, 383]\n",
      "[23, 109, 116, 128, 247, 280, 383, 490]\n",
      "[84, 164, 199, 234, 243, 248, 249, 346]\n",
      "[3, 59, 141, 178, 284, 287, 290, 354]\n",
      "[58, 89, 314, 374, 406, 407, 408, 466]\n",
      "[200, 228, 294, 305, 311, 314, 325, 405]\n",
      "[89, 200, 228, 294, 305, 311, 314, 325]\n",
      "[19, 89, 219, 224, 314, 393, 466, 494]\n",
      "[21, 78, 112, 150, 165, 317, 391, 485]\n",
      "[21, 78, 112, 150, 317, 391, 474, 485]\n",
      "[17, 145, 175, 177, 350, 361, 385, 462]\n",
      "[17, 145, 175, 350, 361, 385, 455, 462]\n",
      "[114, 175, 355, 415, 447, 468, 475, 483]\n",
      "[175, 209, 317, 350, 361, 455, 494, 498]\n",
      "[175, 317, 326, 361, 395, 455, 494, 498]\n",
      "[1, 26, 182, 242, 245, 255, 383, 404]\n",
      "[26, 54, 186, 217, 334, 420, 468, 493]\n",
      "[26, 27, 186, 243, 334, 442, 447, 493]\n",
      "[26, 27, 118, 172, 193, 334, 447, 493]\n",
      "[26, 186, 217, 334, 355, 447, 468, 483]\n",
      "[26, 54, 186, 217, 334, 355, 420, 468]\n",
      "[26, 186, 217, 323, 334, 355, 420, 468]\n",
      "[26, 186, 217, 323, 334, 355, 468, 483]\n",
      "[26, 96, 101, 190, 215, 224, 240, 383]\n",
      "[26, 96, 190, 215, 224, 240, 282, 383]\n",
      "[5, 26, 50, 65, 76, 372, 404, 412]\n",
      "[26, 65, 76, 149, 159, 213, 304, 372]\n",
      "[26, 65, 76, 159, 213, 250, 304, 460]\n",
      "[26, 65, 159, 213, 250, 304, 399, 460]\n",
      "[26, 65, 100, 213, 304, 372, 377, 399]\n",
      "[26, 159, 206, 213, 250, 304, 399, 460]\n",
      "[18, 23, 116, 298, 329, 383, 408, 491]\n",
      "[17, 57, 79, 105, 268, 279, 307, 468]\n",
      "[46, 65, 105, 231, 264, 323, 472, 488]\n",
      "[9, 36, 105, 250, 351, 450, 453, 492]\n",
      "[10, 62, 139, 218, 249, 290, 342, 471]\n",
      "[10, 139, 156, 290, 318, 342, 446, 495]\n",
      "[136, 139, 211, 255, 396, 468, 488, 494]\n",
      "[8, 139, 168, 197, 210, 216, 317, 318]\n",
      "[8, 14, 139, 168, 197, 216, 317, 318]\n",
      "[139, 154, 159, 249, 254, 340, 436, 487]\n",
      "[101, 122, 139, 213, 215, 338, 383, 415]\n",
      "[101, 122, 139, 213, 215, 332, 338, 383]\n",
      "[10, 69, 90, 185, 192, 234, 248, 318]\n",
      "[10, 69, 90, 185, 192, 333, 432, 490]\n",
      "[10, 69, 90, 185, 192, 248, 411, 490]\n",
      "[45, 69, 90, 192, 224, 234, 333, 494]\n",
      "[10, 69, 90, 185, 192, 234, 333, 490]\n",
      "[10, 69, 90, 185, 192, 234, 248, 490]\n",
      "[45, 89, 90, 192, 224, 234, 333, 494]\n",
      "[46, 58, 64, 114, 188, 202, 362, 450]\n",
      "[46, 58, 64, 188, 202, 362, 441, 450]\n",
      "[46, 58, 64, 202, 205, 362, 441, 450]\n",
      "[65, 104, 218, 231, 240, 304, 323, 469]\n",
      "[44, 55, 69, 119, 130, 131, 135, 411]\n",
      "[35, 67, 231, 256, 304, 386, 422, 439]\n",
      "[35, 231, 256, 304, 322, 386, 422, 439]\n",
      "[13, 58, 237, 342, 394, 456, 487, 495]\n",
      "[30, 89, 120, 229, 307, 363, 365, 424]\n",
      "[30, 120, 215, 229, 307, 363, 365, 424]\n",
      "[4, 101, 168, 199, 225, 338, 348, 356]\n",
      "[4, 101, 168, 199, 225, 298, 338, 348]\n",
      "[5, 44, 187, 212, 237, 424, 482, 488]\n",
      "[30, 89, 109, 120, 140, 307, 365, 424]\n",
      "[90, 92, 100, 113, 225, 298, 343, 491]\n",
      "[53, 116, 188, 232, 383, 408, 490, 491]\n",
      "[31, 169, 246, 343, 348, 365, 374, 462]\n",
      "[1, 68, 223, 289, 343, 457, 475, 495]\n",
      "[16, 122, 152, 215, 244, 341, 479, 497]\n",
      "[122, 152, 213, 332, 439, 440, 443, 479]\n",
      "[1, 95, 128, 133, 174, 360, 409, 496]\n",
      "[1, 95, 128, 133, 344, 360, 376, 409]\n",
      "[1, 95, 128, 133, 360, 376, 409, 496]\n",
      "[1, 95, 133, 174, 178, 360, 408, 496]\n",
      "[47, 51, 164, 194, 228, 230, 429, 474]\n",
      "[23, 30, 38, 164, 183, 430, 490, 500]\n",
      "[40, 54, 102, 149, 238, 286, 420, 430]\n",
      "[88, 219, 244, 255, 289, 341, 364, 465]\n",
      "[71, 94, 99, 180, 244, 265, 402, 459]\n",
      "[72, 167, 184, 190, 209, 242, 283, 411]\n",
      "[19, 59, 89, 109, 219, 224, 344, 473]\n",
      "[21, 51, 90, 112, 150, 152, 308, 474]\n",
      "[23, 67, 124, 203, 272, 422, 492, 497]\n",
      "[71, 87, 188, 226, 271, 321, 347, 411]\n",
      "[113, 169, 243, 246, 317, 377, 463, 477]\n",
      "[92, 226, 246, 347, 348, 422, 455, 457]\n",
      "[65, 67, 102, 103, 123, 219, 288, 363]\n",
      "[124, 146, 167, 190, 224, 305, 322, 485]\n",
      "[124, 167, 224, 234, 296, 322, 439, 457]\n",
      "[75, 89, 152, 186, 270, 299, 400, 458]\n",
      "[9, 103, 205, 223, 255, 289, 290, 470]\n",
      "[21, 62, 306, 367, 379, 398, 483, 497]\n",
      "[67, 124, 210, 245, 305, 389, 422, 455]\n",
      "[1, 95, 128, 252, 344, 360, 376, 409]\n",
      "[69, 87, 186, 222, 344, 360, 382, 457]\n",
      "[89, 224, 256, 293, 365, 393, 414, 466]\n",
      "[61, 141, 152, 200, 228, 279, 319, 497]\n",
      "[22, 38, 60, 61, 111, 239, 252, 351]\n",
      "[24, 30, 65, 76, 296, 363, 469, 500]\n",
      "[24, 30, 40, 76, 296, 363, 469, 500]\n",
      "[24, 30, 65, 76, 412, 469, 490, 500]\n",
      "[24, 30, 65, 76, 363, 469, 490, 500]\n",
      "[136, 208, 230, 330, 341, 380, 384, 431]\n",
      "[72, 130, 231, 282, 335, 386, 427, 472]\n",
      "[21, 101, 123, 179, 209, 215, 347, 367]\n",
      "[88, 106, 184, 202, 209, 350, 410, 489]\n",
      "[88, 184, 202, 209, 259, 350, 410, 489]\n",
      "[38, 58, 188, 202, 209, 226, 323, 432]\n",
      "[5, 44, 65, 187, 212, 237, 482, 488]\n",
      "[25, 44, 65, 115, 172, 264, 482, 488]\n",
      "[9, 103, 142, 151, 205, 223, 245, 255]\n",
      "[1, 95, 174, 178, 245, 360, 408, 496]\n",
      "[104, 179, 248, 255, 291, 336, 409, 453]\n",
      "[21, 101, 123, 179, 209, 215, 347, 350]\n",
      "[38, 44, 55, 114, 122, 301, 429, 482]\n",
      "[55, 91, 102, 245, 302, 323, 383, 427]\n",
      "[1, 124, 222, 223, 242, 412, 457, 495]\n",
      "[23, 67, 124, 203, 372, 422, 492, 497]\n",
      "[25, 44, 65, 115, 172, 180, 264, 276]\n",
      "[25, 44, 65, 115, 172, 180, 264, 482]\n",
      "[1, 143, 182, 242, 245, 255, 383, 404]\n"
     ]
    }
   ],
   "source": [
    "%run scripts/check_answer.py graphs/test_graph.txt"
   ]
  },
  {
   "cell_type": "markdown",
   "metadata": {},
   "source": [
    "The answer checks out! Now let's have a look at the performance of the code"
   ]
  },
  {
   "cell_type": "code",
   "execution_count": 7,
   "metadata": {},
   "outputs": [
    {
     "name": "stdout",
     "output_type": "stream",
     "text": [
      "==7632== Callgrind, a call-graph generating cache profiler\n",
      "==7632== Copyright (C) 2002-2017, and GNU GPL'd, by Josef Weidendorfer et al.\n",
      "==7632== Using Valgrind-3.18.1 and LibVEX; rerun with -h for copyright info\n",
      "==7632== Command: ./executables/brute_force graphs/test_graph.txt\n",
      "==7632== \n",
      "==7632== For interactive control, run 'callgrind_control -h'.\n",
      "Size of the maximum clique: 8\n",
      "Maximum clique found:\n",
      "[8, 12, 15, 183, 212, 228, 318, 402]\n",
      "Tempo de execução: 2238 ms\n",
      "==7632== \n",
      "==7632== Events    : Ir\n",
      "==7632== Collected : 766362230\n",
      "==7632== \n",
      "==7632== I   refs:      766,362,230\n"
     ]
    }
   ],
   "source": [
    "!valgrind --tool=callgrind --callgrind-out-file=brute_force.out ./executables/brute_force graphs/test_graph.txt"
   ]
  },
  {
   "cell_type": "code",
   "execution_count": 8,
   "metadata": {},
   "outputs": [
    {
     "name": "stdout",
     "output_type": "stream",
     "text": [
      "--------------------------------------------------------------------------------\n",
      "Profile data file 'brute_force.out' (creator: callgrind-3.18.1)\n",
      "--------------------------------------------------------------------------------\n",
      "I1 cache: \n",
      "D1 cache: \n",
      "LL cache: \n",
      "Timerange: Basic block 0 - 108596152\n",
      "Trigger: Program termination\n",
      "Profiled target:  ./executables/brute_force graphs/test_graph.txt (PID 7632, part 1)\n",
      "Events recorded:  Ir\n",
      "Events shown:     Ir\n",
      "Event sort order: Ir\n",
      "Thresholds:       99\n",
      "Include dirs:     \n",
      "User annotated:   scripts/brute_force.cpp\n",
      "Auto-annotation:  off\n",
      "\n",
      "--------------------------------------------------------------------------------\n",
      "Ir                   \n",
      "--------------------------------------------------------------------------------\n",
      "766,362,230 (100.0%)  PROGRAM TOTALS\n",
      "\n",
      "--------------------------------------------------------------------------------\n",
      "Ir                    file:function\n",
      "--------------------------------------------------------------------------------\n",
      "585,207,464 (76.36%)  scripts/brute_force.cpp:main [/home/gabrielhso/Desktop/insper/2023.2/superComp/maximum-clique-detection/executables/brute_force]\n",
      " 92,279,265 (12.04%)  /usr/include/c++/11/bits/stl_vector.h:main\n",
      " 20,093,962 ( 2.62%)  ???:std::istreambuf_iterator<char, std::char_traits<char> > std::num_get<char, std::istreambuf_iterator<char, std::char_traits<char> > >::_M_extract_int<long>(std::istreambuf_iterator<char, std::char_traits<char> >, std::istreambuf_iterator<char, std::char_traits<char> >, std::ios_base&, std::_Ios_Iostate&, long&) const [/usr/lib/x86_64-linux-gnu/libstdc++.so.6.0.30]\n",
      " 14,624,353 ( 1.91%)  ./malloc/./malloc/malloc.c:_int_free [/usr/lib/x86_64-linux-gnu/libc.so.6]\n",
      "  9,499,930 ( 1.24%)  ./malloc/./malloc/malloc.c:malloc [/usr/lib/x86_64-linux-gnu/libc.so.6]\n",
      "  5,016,374 ( 0.65%)  ./malloc/./malloc/malloc.c:free [/usr/lib/x86_64-linux-gnu/libc.so.6]\n",
      "  4,648,542 ( 0.61%)  ???:std::istream::sentry::sentry(std::istream&, bool) [/usr/lib/x86_64-linux-gnu/libstdc++.so.6.0.30]\n",
      "  4,269,952 ( 0.56%)  /usr/include/c++/11/bits/vector.tcc:void std::vector<int, std::allocator<int> >::_M_realloc_insert<int const&>(__gnu_cxx::__normal_iterator<int*, std::vector<int, std::allocator<int> > >, int const&) [/home/gabrielhso/Desktop/insper/2023.2/superComp/maximum-clique-detection/executables/brute_force]\n",
      "  4,048,704 ( 0.53%)  ???:std::istream::operator>>(int&) [/usr/lib/x86_64-linux-gnu/libstdc++.so.6.0.30]\n",
      "  2,736,192 ( 0.36%)  ???:operator new(unsigned long) [/usr/lib/x86_64-linux-gnu/libstdc++.so.6.0.30]\n",
      "  2,594,078 ( 0.34%)  /usr/include/c++/11/bits/stl_vector.h:void std::vector<int, std::allocator<int> >::_M_realloc_insert<int const&>(__gnu_cxx::__normal_iterator<int*, std::vector<int, std::allocator<int> > >, int const&)\n",
      "  2,474,208 ( 0.32%)  ???:0x000000000012faf0 [/usr/lib/x86_64-linux-gnu/libstdc++.so.6.0.30]\n",
      "  2,134,476 ( 0.28%)  /usr/include/c++/11/ext/new_allocator.h:void std::vector<int, std::allocator<int> >::_M_realloc_insert<int const&>(__gnu_cxx::__normal_iterator<int*, std::vector<int, std::allocator<int> > >, int const&)\n",
      "  1,984,156 ( 0.26%)  ./string/../sysdeps/x86_64/multiarch/memmove-vec-unaligned-erms.S:__memcpy_avx_unaligned_erms [/usr/lib/x86_64-linux-gnu/libc.so.6]\n",
      "  1,676,874 ( 0.22%)  /usr/include/c++/11/bits/stl_uninitialized.h:void std::vector<int, std::allocator<int> >::_M_realloc_insert<int const&>(__gnu_cxx::__normal_iterator<int*, std::vector<int, std::allocator<int> > >, int const&)\n",
      "  1,574,706 ( 0.21%)  ???:0x000000000012b240 [/usr/lib/x86_64-linux-gnu/libstdc++.so.6.0.30]\n",
      "  1,124,640 ( 0.15%)  ???:0x0000000000103500 [/usr/lib/x86_64-linux-gnu/libstdc++.so.6.0.30]\n",
      "    998,210 ( 0.13%)  ./elf/./elf/dl-lookup.c:_dl_lookup_symbol_x [/usr/lib/x86_64-linux-gnu/ld-linux-x86-64.so.2]\n",
      "    974,705 ( 0.13%)  scripts/brute_force.cpp:readGraph(std::__cxx11::basic_string<char, std::char_traits<char>, std::allocator<char> > const&, int&, int&) [/home/gabrielhso/Desktop/insper/2023.2/superComp/maximum-clique-detection/executables/brute_force]\n",
      "    717,464 ( 0.09%)  /usr/include/c++/11/ext/new_allocator.h:main\n",
      "    684,051 ( 0.09%)  ./malloc/./malloc/arena.c:free\n",
      "\n",
      "--------------------------------------------------------------------------------\n",
      "-- User-annotated source: scripts/brute_force.cpp\n",
      "--------------------------------------------------------------------------------\n",
      "Ir                   \n",
      "\n",
      "-- line 6 ----------------------------------------\n",
      "          .           \n",
      "          .           #include <chrono>\n",
      "          .           \n",
      "          .           using namespace std;\n",
      "          .           \n",
      "          .           bool sort_by_id(int id_1, int id_2) { return (id_1 < id_2); }\n",
      "          .           \n",
      "          .           vector<vector<int>> readGraph(const string &fileName, int &numNodes, int &numEdges)\n",
      "         15 ( 0.00%)  {\n",
      "          .               ifstream file(fileName);\n",
      "          6 ( 0.00%)      file >> numNodes >> numEdges;\n",
      "      6,625 ( 0.00%)  => ???:0x000000000010a360 (2x)\n",
      "          .           \n",
      "          2 ( 0.00%)      vector<vector<int>> graph(numNodes, vector<int>(numNodes, 0));\n",
      "          .           \n",
      "    149,955 ( 0.02%)      for (int i = 0; i < numEdges; ++i)\n",
      "          .               {\n",
      "          .                   int u, v;\n",
      "    224,923 ( 0.03%)          file >> u >> v;\n",
      " 35,167,340 ( 4.59%)  => ???:0x000000000010a360 (74,974x)\n",
      "    299,896 ( 0.04%)          graph[u - 1][v - 1] = 1;\n",
      "    299,896 ( 0.04%)          graph[v - 1][u - 1] = 1;\n",
      "          .               }\n",
      "          .           \n",
      "          .               file.close();\n",
      "          .           \n",
      "          .               return graph;\n",
      "         12 ( 0.00%)  }\n",
      "          .           \n",
      "          .           void printIntVector(vector<int> &vector)\n",
      "          .           {\n",
      "          .               for (unsigned int i = 0; i < vector.size(); i++)\n",
      "          .               {\n",
      "          .                   cout << vector[i] << \" \";\n",
      "          .               }\n",
      "          .           \n",
      "          .               cout << endl;\n",
      "          .           }\n",
      "          .           \n",
      "          .           void printOutput(vector<int> &maximumClique)\n",
      "          9 ( 0.00%)  {\n",
      "          .               cout << \"Size of the maximum clique: \" << maximumClique.size() << endl;\n",
      "          .               cout << \"Maximum clique found:\" << endl;\n",
      "          .               cout << \"[\";\n",
      "          .           \n",
      "          .               sort(maximumClique.begin(), maximumClique.end(), sort_by_id);\n",
      "          .           \n",
      "          .               unsigned int i = 0;\n",
      "          .           \n",
      "         37 ( 0.00%)      for (i = 0; i < maximumClique.size() - 1; i++)\n",
      "          .               {\n",
      "         35 ( 0.00%)          cout << maximumClique[i] + 1 << \", \";\n",
      "      5,152 ( 0.00%)  => ???:0x000000000010a4e0 (7x)\n",
      "          .               }\n",
      "          .           \n",
      "          5 ( 0.00%)      cout << maximumClique[i] + 1 << \"]\" << endl;\n",
      "        440 ( 0.00%)  => ???:0x000000000010a4e0 (1x)\n",
      "          7 ( 0.00%)  }\n",
      "          .           \n",
      "          .           int main(int argc, char *argv[])\n",
      "         13 ( 0.00%)  {\n",
      "          2 ( 0.00%)      auto inicio = chrono::high_resolution_clock::now();\n",
      "        881 ( 0.00%)  => ???:0x000000000010a2c0 (1x)\n",
      "          .           \n",
      "          2 ( 0.00%)      if (argc != 2)\n",
      "          .               {\n",
      "          .                   cout << \"Run the program with the graph file as an argument (e.g., ./main graph.txt)\" << endl;\n",
      "          .                   return 1;\n",
      "          .               }\n",
      "          .           \n",
      "          1 ( 0.00%)      string fileName = argv[1];\n",
      "          .           \n",
      "          .               int numNodes, numEdges;\n",
      "          .           \n",
      "          7 ( 0.00%)      vector<vector<int>> graph = readGraph(fileName, numNodes, numEdges);\n",
      " 36,505,499 ( 4.76%)  => scripts/brute_force.cpp:readGraph(std::__cxx11::basic_string<char, std::char_traits<char>, std::allocator<char> > const&, int&, int&) (1x)\n",
      "          .           \n",
      "          .               vector<int> maximumClique;\n",
      "      2,504 ( 0.00%)      for (int currentNode = 0; currentNode < numNodes; currentNode++)\n",
      "          .               {\n",
      "          .                   vector<int> connections;\n",
      "  1,153,448 ( 0.15%)          for (int node = 0; node < numNodes; node++)\n",
      "          .                   {\n",
      "  1,500,000 ( 0.20%)              if (graph[currentNode][node] == 1)\n",
      "          .                           connections.push_back(node);\n",
      "          .                   }\n",
      "          .           \n",
      "    226,422 ( 0.03%)          for (int connection1 : connections)\n",
      "          .                   {\n",
      "          .                       vector<int> clique = {currentNode, connection1};\n",
      " 56,528,964 ( 7.38%)              for (int connection2 : connections)\n",
      "          .                       {\n",
      " 11,290,798 ( 1.47%)                  bool inClique = true;\n",
      "185,826,503 (24.25%)                  for (int member : clique)\n",
      "          .                           {\n",
      "120,120,736 (15.67%)                      if (graph[member][connection2] == 0)\n",
      "185,826,503 (24.25%)                          inClique = false;\n",
      "          .                           }\n",
      " 22,581,596 ( 2.95%)                  if (inClique)\n",
      "          .                               clique.push_back(connection2);\n",
      "          .                       }\n",
      "    149,948 ( 0.02%)              if (clique.size() > maximumClique.size())\n",
      "          .                           maximumClique = clique;\n",
      "          .                   }\n",
      "          .               }\n",
      "          .           \n",
      "          2 ( 0.00%)      printOutput(maximumClique);\n",
      "     18,908 ( 0.00%)  => scripts/brute_force.cpp:printOutput(std::vector<int, std::allocator<int> >&) (1x)\n",
      "          .           \n",
      "          1 ( 0.00%)      auto fim = chrono::high_resolution_clock::now();\n",
      "         30 ( 0.00%)  => ???:0x000000000010a2c0 (1x)\n",
      "          .               auto duracao = chrono::duration_cast<std::chrono::milliseconds>(fim - inicio);\n",
      "          .               cout << \"Tempo de execução: \" << duracao.count() << \" ms\\n\";\n",
      "          .               \n",
      "          1 ( 0.00%)      return 0;\n",
      "         16 ( 0.00%)  }     98,093 ( 0.01%)  => /usr/include/c++/11/bits/stl_vector.h:std::vector<std::vector<int, std::allocator<int> >, std::allocator<std::vector<int, std::allocator<int> > > >::~vector() (1x)\n",
      "\n",
      "--------------------------------------------------------------------------------\n",
      "Ir                   \n",
      "--------------------------------------------------------------------------------\n",
      "586,182,265 (76.49%)  events annotated\n",
      "\n"
     ]
    }
   ],
   "source": [
    "!callgrind_annotate brute_force.out scripts/brute_force.cpp --auto=no"
   ]
  },
  {
   "cell_type": "markdown",
   "metadata": {},
   "source": [
    "Ao expandir a saída do `annotate`, é possível enxergar que as partes do código com maior proporção de execuções destinadas são:\n",
    "\n",
    "Scripts e biblioteca\n",
    " - 76.21%: `brute_force.cpp` (o próprio código em c)\n",
    " - 12.04%: `stl_vector.h:main` (biblioteca vector)\n",
    " - 11.75%: outras bibliotecas\n",
    "\n",
    "Não temos uma maneira de melhorar o código da biblioteca, então teremos que nos ater à mudança no nosso código.\n",
    "\n",
    "Dentre as partes do programa, nota-se que: \n",
    " - 4.83% das execuções são na função de ler o grafo `ReadGraph`\n",
    " - 75,83% das execuções ocorrem na seguinte parte:\n",
    "\n",
    "```c++\n",
    "( 0.03%)           for (int connection1 : connections)\n",
    "                   {\n",
    "                       vector<int> clique = {currentNode, connection1}; // Move initialization here\n",
    "( 7.43%)               for (int connection2 : connections)\n",
    "                       {\n",
    "( 1.48%)                   bool inClique = true;\n",
    "(24.16%)                   for (int member : clique)\n",
    "                           {\n",
    "(15.61%)                       if (graph[member][connection2] == 0)\n",
    "(24.16%)                       inClique = false;\n",
    "                           }\n",
    "( 2.97%)                    if (inClique)\n",
    "                                clique.push_back(connection2);\n",
    "                        }\n",
    "( 0.02%)                if (clique.size() > maximumClique.size())\n",
    "                        maximumClique = clique;\n",
    "                   }\n",
    "               }\n",
    "```"
   ]
  },
  {
   "cell_type": "markdown",
   "metadata": {},
   "source": [
    "It seems that the issue is in the inner loops. How can we reduce them?"
   ]
  },
  {
   "cell_type": "markdown",
   "metadata": {},
   "source": [
    "### Applying a Heuristic\n",
    "\n",
    "One possibility to increase the code's speed is to use an heuristic. Heuristics are a rule of thumb or a practical method used to solve problems, make decisions, or find approximate solutions, often when an exact solution is impractical or impossible to find in a reasonable amount of time.\n",
    "\n",
    "A common way to think of an heuristic is creating a greedy algorithim, which is an approach where at each step, the algorithm makes the best or most optimal choice available locally without considering the entire problem. It aims to find the overall optimal solution by selecting the best immediate option at each stage, hoping that this will lead to the best possible solution for the whole problem.\n",
    "\n",
    "We could do something like that for our clique problem. A possible greedy algorithim would look like this:\n",
    "\n",
    "```\n",
    "// Create a struct representing a node\n",
    "struct node {\n",
    "    vector int connections\n",
    "    vector int connectionTotal\n",
    "}\n",
    "\n",
    "// Create a list of nodes\n",
    "vector int nodes\n",
    "\n",
    "//Create a list of connectionTotals\n",
    "vector int connectionTotals\n",
    "\n",
    "// Loop the graph and fill nodes list\n",
    "for int i in graph:\n",
    "    vector int thisConnections\n",
    "    int thisConnectionTotal = 0\n",
    "    for int j in graph: \n",
    "        if graph[i][j] == 1:\n",
    "            add j to thisConnections\n",
    "            thisConnectionTotal += 1\n",
    "    add node(thisConnections, thisConnectionTotal) to nodes\n",
    "    add thisConnectionTotals to connectionTotals\n",
    "\n",
    "sort connectionTotals\n",
    "\n",
    "int cut = numNodes // 0.9\n",
    "int connectionsCut = connectionTotals[cut]\n",
    "\n",
    "[original brute force algorithm, but if the ammount of connections of the current vector is lower than connectionsCut, goes to next element in loop]\n",
    "\n",
    "```"
   ]
  },
  {
   "cell_type": "markdown",
   "metadata": {},
   "source": [
    "The idea of this algorithm is that if a node has more connections, the chances that it is part of the maximum clique is higher than if it has lowers. As said, it is possible that this algorithm doesn't find the correct maximum clique, but it greatly decreases the ammount of work done to find a reasonable result.\n",
    "\n",
    "We will continue this project using the original brute-force approach, but if the size of the graph got dramatically bigger, using an heuristic like the one above would be almost mandatory if we wanted to find a result in a reasonable time."
   ]
  },
  {
   "cell_type": "markdown",
   "metadata": {},
   "source": [
    "## Open-MP"
   ]
  },
  {
   "cell_type": "markdown",
   "metadata": {},
   "source": [
    "### Description\n",
    "\n",
    "OpenMP stands for Open Multi-Processing. It's a widely used API (Application Programming Interface) for shared-memory multiprocessing programming in C, C++, and Fortran. It simplifies parallel programming by using compiler directives to enable parallelism in code.\n",
    "\n",
    "By adding a simple directive before the outer-loop, we can divide the code into threads. However, we need to be careful as the comparison at the end of the algorithm creates a dependence between threads, needing the `critical` directive.\n",
    "\n",
    "```cpp\n",
    "\n",
    "    vector<int> maximumClique;\n",
    "\n",
    "    #pragma omp parallel for\n",
    "    for (int currentNode = 0; currentNode < numNodes; currentNode++)\n",
    "    {\n",
    "        // Pega todas as conexões\n",
    "        vector<int> connections;\n",
    "        for (int node = 0; node < numNodes; node++)\n",
    "        {\n",
    "            if (graph[currentNode][node] == 1)\n",
    "                connections.push_back(node);\n",
    "        }\n",
    "\n",
    "        // Para cada conexão do nó atual...\n",
    "        for (int connection1 : connections)\n",
    "        {\n",
    "            // rest of the code ...\n",
    "\n",
    "        #pragma omp critical\n",
    "            if (clique.size() > maximumClique.size())\n",
    "                maximumClique = clique;\n",
    "        }\n",
    "    }\n",
    "```\n",
    "\n",
    "### Running the code"
   ]
  },
  {
   "cell_type": "markdown",
   "metadata": {},
   "source": [
    "We need to run openMP files with the `-fopenmp` flag:"
   ]
  },
  {
   "cell_type": "code",
   "execution_count": 9,
   "metadata": {},
   "outputs": [],
   "source": [
    "# Compiling\n",
    "!g++ -Wall -O3 -fopenmp scripts/open_mp.cpp -o ./executables/open_mp"
   ]
  },
  {
   "cell_type": "code",
   "execution_count": 10,
   "metadata": {},
   "outputs": [
    {
     "name": "stdout",
     "output_type": "stream",
     "text": [
      "Size of the maximum clique: 8\n",
      "Maximum clique found:\n",
      "[1, 26, 182, 242, 245, 255, 383, 404]\n",
      "Tempo de execução: 39 ms\n"
     ]
    }
   ],
   "source": [
    "# Running\n",
    "!./executables/open_mp graphs/test_graph.txt"
   ]
  },
  {
   "cell_type": "markdown",
   "metadata": {},
   "source": [
    "## MPI\n",
    "\n",
    "### Description\n",
    "OpenMP parallelizes into cores inside one computer. The next step is parallelizing between different computers working in a network - in a cluster! To do so, we need to use MPI, which is a communication protocol allowing different nodes or processes across a networked cluster to exchange data and coordinate parallel computations efficiently.\n",
    "\n",
    "### Running the Code\n",
    "\n",
    "The most popular schedualer for running on clusters is Slurm. Slurm is an open-source job scheduler used in high-performance computing (HPC) environments. It manages and schedules the allocation of resources like processors and memory for running jobs on clusters or supercomputers.\n",
    "\n",
    "Unfortunatly, MPI doesn't allow us to exchange 2D vectors between tasks. Therefore, we need to refactor the graph to a one-dimentional vector.\n",
    "\n",
    "Besides creating a new script, available at `scripts/mpi_flatten`, it was necessary to create a `mpi_flatten.slurm` file. This file contains the instructions to run on the cluster."
   ]
  },
  {
   "cell_type": "markdown",
   "metadata": {},
   "source": [
    "## Comparison"
   ]
  },
  {
   "cell_type": "markdown",
   "metadata": {},
   "source": [
    "Making graphs of different sizes"
   ]
  },
  {
   "cell_type": "code",
   "execution_count": 11,
   "metadata": {},
   "outputs": [
    {
     "name": "stdout",
     "output_type": "stream",
     "text": [
      "Graph generated and saved at /home/gabrielhso/Desktop/insper/2023.2/superComp/maximum-clique-detection/graphs'.\n",
      "Graph generated and saved at /home/gabrielhso/Desktop/insper/2023.2/superComp/maximum-clique-detection/graphs'.\n",
      "Graph generated and saved at /home/gabrielhso/Desktop/insper/2023.2/superComp/maximum-clique-detection/graphs'.\n"
     ]
    },
    {
     "name": "stdout",
     "output_type": "stream",
     "text": [
      "Graph generated and saved at /home/gabrielhso/Desktop/insper/2023.2/superComp/maximum-clique-detection/graphs'.\n",
      "Graph generated and saved at /home/gabrielhso/Desktop/insper/2023.2/superComp/maximum-clique-detection/graphs'.\n",
      "Graph generated and saved at /home/gabrielhso/Desktop/insper/2023.2/superComp/maximum-clique-detection/graphs'.\n",
      "Graph generated and saved at /home/gabrielhso/Desktop/insper/2023.2/superComp/maximum-clique-detection/graphs'.\n",
      "Graph generated and saved at /home/gabrielhso/Desktop/insper/2023.2/superComp/maximum-clique-detection/graphs'.\n",
      "Graph generated and saved at /home/gabrielhso/Desktop/insper/2023.2/superComp/maximum-clique-detection/graphs'.\n",
      "Graph generated and saved at /home/gabrielhso/Desktop/insper/2023.2/superComp/maximum-clique-detection/graphs'.\n"
     ]
    }
   ],
   "source": [
    "#Making graphs of sizes 100, 200, 300, 400, 500, 600, 700, 800, 900, 1000\n",
    "sizes = [100, 200, 300, 400, 500, 600, 700, 800, 900, 1000]\n",
    "graph_names = list()\n",
    "\n",
    "for size in sizes:\n",
    "    %run scripts/generate_graph.py {size} 0.5 graph_{size}\n",
    "    graph_names.append(f\"graph_{size}.txt\")\n"
   ]
  },
  {
   "cell_type": "markdown",
   "metadata": {},
   "source": [
    "Fetching data from `brute_force.cpp` and `open_mp.cpp` files"
   ]
  },
  {
   "cell_type": "code",
   "execution_count": 12,
   "metadata": {},
   "outputs": [
    {
     "name": "stdout",
     "output_type": "stream",
     "text": [
      "['Tempo', 'de', 'execução:', '1', 'ms']\n",
      "1\n"
     ]
    }
   ],
   "source": [
    "# We can fetch the time data by splitting the program output\n",
    "output = !./executables/brute_force graphs/graph_100.txt\n",
    "print(output[-1].split(\" \"))\n",
    "print(output[-1].split(\" \")[-2])"
   ]
  },
  {
   "cell_type": "code",
   "execution_count": 13,
   "metadata": {},
   "outputs": [],
   "source": [
    "brute_force_times = list()\n",
    "open_mp_times = list()\n",
    "\n",
    "for graph in graph_names:\n",
    "    output_brute_force = !./executables/brute_force graphs/{graph}\n",
    "    brute_force_times.append(int(output_brute_force[-1].split(\" \")[-2]))\n",
    "    output_open_mp = !./executables/open_mp graphs/{graph}\n",
    "    open_mp_times.append(int(output_open_mp[-1].split(\" \")[-2]))"
   ]
  },
  {
   "cell_type": "code",
   "execution_count": 14,
   "metadata": {},
   "outputs": [],
   "source": [
    "job_ids = [i for i in range(654, 664)]\n",
    "MPI_times = list()\n",
    "\n",
    "for job_id in job_ids:\n",
    "    with open(f\"slurm-out/slurm-{job_id}.out\", \"r\") as f:\n",
    "        MPI_times.append(int(f.read().split(\" \")[-2]))\n"
   ]
  },
  {
   "cell_type": "code",
   "execution_count": 15,
   "metadata": {},
   "outputs": [
    {
     "name": "stdout",
     "output_type": "stream",
     "text": [
      "[1, 12, 41, 76, 168, 275, 444, 703, 1181, 1546]\n",
      "[9, 32, 21, 35, 102, 118, 209, 313, 487, 589]\n",
      "[279, 309, 292, 292, 385, 510, 864, 928, 1179, 1614]\n"
     ]
    }
   ],
   "source": [
    "print(brute_force_times)\n",
    "print(open_mp_times)\n",
    "print(MPI_times)"
   ]
  },
  {
   "cell_type": "code",
   "execution_count": 16,
   "metadata": {},
   "outputs": [
    {
     "data": {
      "image/png": "[encoded data removed]",
      "text/plain": [
       "<Figure size 640x480 with 1 Axes>"
      ]
     },
     "metadata": {},
     "output_type": "display_data"
    }
   ],
   "source": [
    "import matplotlib.pyplot as plt\n",
    "\n",
    "# Plotting the graph\n",
    "plt.plot(sizes, brute_force_times, label='Brute Force')\n",
    "plt.plot(sizes, open_mp_times, label='Open MP')\n",
    "plt.plot(sizes, MPI_times, label='MPI')\n",
    "plt.xlabel('Number of Nodes')\n",
    "plt.ylabel('Time (ms)')\n",
    "plt.title('Comparison between implementations')\n",
    "plt.legend()\n",
    "plt.grid()\n",
    "plt.show()\n"
   ]
  },
  {
   "cell_type": "markdown",
   "metadata": {},
   "source": [
    "The time taken for exhaustive search also increases with graph size, as expected due to its inherent nature of exploring all possible combinations. However, it's consistently slower than OpenMP across all graph sizes, highlighting the efficiency gain achieved through parallelization.\n",
    "\n",
    "Albeit, the execution times for MPI vary inconsistently with the graph size. Unlike OpenMP, the times don't consistently decrease or increase with graph size. This unexpected behavior might indicate issues with the MPI implementation or the way the algorithm scales in a distributed environment. But why was that?\n",
    "\n",
    "Upon closer examination of the `.slurm` configuration file, it becomes evident that the job was configured to utilize only two nodes within the available cluster infrastructure. This restriction stemmed from the limited resources, restricting the computational capacity to these two nodes exclusively. Notably, the absence of further internal parallelization mechanisms, such as OpenMP, within each node resulted in a configuration where the nodes functioned akin to two individual threads. Due to the larger communication overhead between these nodes (in comparison to communication between cores in the same cpu), the overall efficiency was impacted.\n",
    "\n",
    "Additionally, the work environment significantly differed across these implementations. While the OpenMP and brute force algorithms were executed on my personal machine, the MPI implementation ran on a simulated cluster environment utilizing one physical machine communicating across three virtual machines (VMs). This setup inherently introduced complexities related to virtualization, network latency, and the coordination of processes across multiple simulated nodes.\n",
    "\n",
    "The disparity in execution environments could have notably influenced the MPI execution times, introducing overheads and bottlenecks associated with virtualized communication between nodes. These complexities, coupled with the constraints of simulating a cluster environment on a single machine, likely contributed to the inconsistent scaling observed in MPI execution times, deviating from the anticipated behavior."
   ]
  }
 ],
 "metadata": {
  "kernelspec": {
   "display_name": "Python 3",
   "language": "python",
   "name": "python3"
  },
  "language_info": {
   "codemirror_mode": {
    "name": "ipython",
    "version": 3
   },
   "file_extension": ".py",
   "mimetype": "text/x-python",
   "name": "python",
   "nbconvert_exporter": "python",
   "pygments_lexer": "ipython3",
   "version": "3.10.12"
  }
 },
 "nbformat": 4,
 "nbformat_minor": 2
}
