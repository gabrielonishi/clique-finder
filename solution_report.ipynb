{
 "cells": [
  {
   "cell_type": "markdown",
   "metadata": {},
   "source": [
    "# Solution Report\n",
    "\n",
    "This file aims to study each approach, detailing it's main strategy as well as weighting in on it's advantages and disadvantages\n",
    "\n",
    "**Important Note:** If you want to run this report, be sure you are using a **Linux** distribution\n",
    "\n",
    "### Index\n",
    " - [Setting up the Environment](#setting-up-the-environment)\n",
    " - [Brute-Force](#brute-force)\n",
    "\n",
    "## Setting up the Environment\n",
    "\n",
    "To generate the example graphs, as well as checking if the cliques we found are correct, the `networkx` library is used. Let's make sure that this library is installed"
   ]
  },
  {
   "cell_type": "code",
   "execution_count": 8,
   "metadata": {},
   "outputs": [
    {
     "name": "stdout",
     "output_type": "stream",
     "text": [
      "Defaulting to user installation because normal site-packages is not writeable\n",
      "Requirement already satisfied: networkx in /home/gabrielhso/.local/lib/python3.10/site-packages (2.6.3)\n",
      "Note: you may need to restart the kernel to use updated packages.\n"
     ]
    }
   ],
   "source": [
    "%pip install networkx"
   ]
  },
  {
   "cell_type": "markdown",
   "metadata": {},
   "source": [
    "Note that there aren't any graphs in the directory currently. Let's generate them using the `generate_graph.py` in the `scripts` folder. We will generate just one graph for now to be used as a test for the algorithms."
   ]
  },
  {
   "cell_type": "code",
   "execution_count": 17,
   "metadata": {},
   "outputs": [
    {
     "name": "stdout",
     "output_type": "stream",
     "text": [
      "Graph generated and saved at /home/gabrielhso/Desktop/insper/2023.2/superComp/maximum-clique-detection/graphs'.\n"
     ]
    }
   ],
   "source": [
    "# generate_graph.py args: argv[1] = n_edges, argv[2] = probability of connection, argv[3] = filename\n",
    "%run scripts/generate_graph.py 500 0.3 test_graph.txt"
   ]
  },
  {
   "cell_type": "markdown",
   "metadata": {},
   "source": [
    "## Brute-Force\n",
    "\n",
    "### Description\n",
    "The brute force approach to finding the maximum clique in a graph is a method that systematically explores all possible combinations of vertices to identify the largest complete subgraph, known as a clique. It starts with an initial vertex and iteratively adds vertices to a candidate clique, checking if the addition maintains the clique property. This exhaustive approach guarantees the optimality of the solution, but its computational complexity grows exponentially with the number of vertices, making it impractical for large graphs.\n",
    "\n",
    "### Running the Code\n",
    "\n",
    "As we will evaluate the efficiency of the algorithim itself, we won't compile it with the optimization options of the compiler (-O flag). Also, we will use the -g to include debug symbols.\n"
   ]
  },
  {
   "cell_type": "code",
   "execution_count": 18,
   "metadata": {},
   "outputs": [],
   "source": [
    "# Compiling\n",
    "!g++ -Wall -O3 -g scripts/brute_force.cpp -o ./scripts/brute_force"
   ]
  },
  {
   "cell_type": "code",
   "execution_count": 19,
   "metadata": {},
   "outputs": [
    {
     "name": "stdout",
     "output_type": "stream",
     "text": [
      "Size of the maximum clique: 9\n",
      "Maximum clique found:\n",
      "[17, 33, 53, 211, 237, 251, 313, 332, 380]\n"
     ]
    }
   ],
   "source": [
    "# Running\n",
    "!./scripts/brute_force graphs/test_graph.txt"
   ]
  },
  {
   "cell_type": "markdown",
   "metadata": {},
   "source": [
    "Let's check the answer using the `check_answer.py` file"
   ]
  },
  {
   "cell_type": "code",
   "execution_count": 20,
   "metadata": {},
   "outputs": [
    {
     "name": "stdout",
     "output_type": "stream",
     "text": [
      "Size of the maximum clique:  9\n",
      "Maximum cliques found:\n",
      "[17, 33, 53, 211, 237, 251, 313, 332, 380]\n"
     ]
    }
   ],
   "source": [
    "%run scripts/check_answer.py graphs/test_graph.txt"
   ]
  },
  {
   "cell_type": "markdown",
   "metadata": {},
   "source": [
    "### Profiling"
   ]
  },
  {
   "cell_type": "markdown",
   "metadata": {},
   "source": [
    "Now let's check the performance of this code"
   ]
  },
  {
   "cell_type": "code",
   "execution_count": 21,
   "metadata": {},
   "outputs": [
    {
     "name": "stdout",
     "output_type": "stream",
     "text": [
      "==5994== Callgrind, a call-graph generating cache profiler\n",
      "==5994== Copyright (C) 2002-2017, and GNU GPL'd, by Josef Weidendorfer et al.\n",
      "==5994== Using Valgrind-3.18.1 and LibVEX; rerun with -h for copyright info\n",
      "==5994== Command: ./scripts/brute_force graphs/test_graph.txt\n",
      "==5994== \n",
      "==5994== For interactive control, run 'callgrind_control -h'.\n",
      "Size of the maximum clique: 9\n",
      "Maximum clique found:\n",
      "[17, 33, 53, 211, 237, 251, 313, 332, 380]\n",
      "==5994== \n",
      "==5994== Events    : Ir\n",
      "==5994== Collected : 748994908\n",
      "==5994== \n",
      "==5994== I   refs:      748,994,908\n"
     ]
    }
   ],
   "source": [
    "!valgrind --tool=callgrind ./scripts/brute_force graphs/test_graph.txt"
   ]
  },
  {
   "cell_type": "code",
   "execution_count": 24,
   "metadata": {},
   "outputs": [
    {
     "name": "stdout",
     "output_type": "stream",
     "text": [
      "--------------------------------------------------------------------------------\n",
      "Profile data file 'callgrind.out.5994' (creator: callgrind-3.18.1)\n",
      "--------------------------------------------------------------------------------\n",
      "I1 cache: \n",
      "D1 cache: \n",
      "LL cache: \n",
      "Timerange: Basic block 0 - 106349944\n",
      "Trigger: Program termination\n",
      "Profiled target:  ./scripts/brute_force graphs/test_graph.txt (PID 5994, part 1)\n",
      "Events recorded:  Ir\n",
      "Events shown:     Ir\n",
      "Event sort order: Ir\n",
      "Thresholds:       99\n",
      "Include dirs:     \n",
      "User annotated:   scripts/brute_force.cpp\n",
      "Auto-annotation:  off\n",
      "\n",
      "--------------------------------------------------------------------------------\n",
      "Ir                   \n",
      "--------------------------------------------------------------------------------\n",
      "748,994,908 (100.0%)  PROGRAM TOTALS\n",
      "\n",
      "--------------------------------------------------------------------------------\n",
      "Ir                    file:function\n",
      "--------------------------------------------------------------------------------\n",
      "570,779,335 (76.21%)  scripts/brute_force.cpp:main [/home/gabrielhso/Desktop/insper/2023.2/superComp/maximum-clique-detection/scripts/brute_force]\n",
      " 90,170,367 (12.04%)  /usr/include/c++/11/bits/stl_vector.h:main\n",
      " 19,929,560 ( 2.66%)  ???:std::istreambuf_iterator<char, std::char_traits<char> > std::num_get<char, std::istreambuf_iterator<char, std::char_traits<char> > >::_M_extract_int<long>(std::istreambuf_iterator<char, std::char_traits<char> >, std::istreambuf_iterator<char, std::char_traits<char> >, std::ios_base&, std::_Ios_Iostate&, long&) const [/usr/lib/x86_64-linux-gnu/libstdc++.so.6.0.30]\n",
      " 14,475,489 ( 1.93%)  ./malloc/./malloc/malloc.c:_int_free [/usr/lib/x86_64-linux-gnu/libc.so.6]\n",
      "  9,402,464 ( 1.26%)  ./malloc/./malloc/malloc.c:malloc [/usr/lib/x86_64-linux-gnu/libc.so.6]\n",
      "  4,965,202 ( 0.66%)  ./malloc/./malloc/malloc.c:free [/usr/lib/x86_64-linux-gnu/libc.so.6]\n",
      "  4,608,990 ( 0.62%)  ???:std::istream::sentry::sentry(std::istream&, bool) [/usr/lib/x86_64-linux-gnu/libstdc++.so.6.0.30]\n",
      "  4,222,660 ( 0.56%)  /usr/include/c++/11/bits/vector.tcc:void std::vector<int, std::allocator<int> >::_M_realloc_insert<int const&>(__gnu_cxx::__normal_iterator<int*, std::vector<int, std::allocator<int> > >, int const&) [/home/gabrielhso/Desktop/insper/2023.2/superComp/maximum-clique-detection/scripts/brute_force]\n",
      "  4,014,252 ( 0.54%)  ???:std::istream::operator>>(int&) [/usr/lib/x86_64-linux-gnu/libstdc++.so.6.0.30]\n",
      "  2,708,280 ( 0.36%)  ???:operator new(unsigned long) [/usr/lib/x86_64-linux-gnu/libstdc++.so.6.0.30]\n",
      "  2,565,365 ( 0.34%)  /usr/include/c++/11/bits/stl_vector.h:void std::vector<int, std::allocator<int> >::_M_realloc_insert<int const&>(__gnu_cxx::__normal_iterator<int*, std::vector<int, std::allocator<int> > >, int const&)\n",
      "  2,453,154 ( 0.33%)  ???:0x000000000012faf0 [/usr/lib/x86_64-linux-gnu/libstdc++.so.6.0.30]\n",
      "  2,110,830 ( 0.28%)  /usr/include/c++/11/ext/new_allocator.h:void std::vector<int, std::allocator<int> >::_M_realloc_insert<int const&>(__gnu_cxx::__normal_iterator<int*, std::vector<int, std::allocator<int> > >, int const&)\n",
      "  1,963,863 ( 0.26%)  ./string/../sysdeps/x86_64/multiarch/memmove-vec-unaligned-erms.S:__memcpy_avx_unaligned_erms [/usr/lib/x86_64-linux-gnu/libc.so.6]\n",
      "  1,658,295 ( 0.22%)  /usr/include/c++/11/bits/stl_uninitialized.h:void std::vector<int, std::allocator<int> >::_M_realloc_insert<int const&>(__gnu_cxx::__normal_iterator<int*, std::vector<int, std::allocator<int> > >, int const&)\n",
      "  1,561,308 ( 0.21%)  ???:0x000000000012b240 [/usr/lib/x86_64-linux-gnu/libstdc++.so.6.0.30]\n",
      "  1,115,070 ( 0.15%)  ???:0x0000000000103500 [/usr/lib/x86_64-linux-gnu/libstdc++.so.6.0.30]\n",
      "    997,314 ( 0.13%)  ./elf/./elf/dl-lookup.c:_dl_lookup_symbol_x [/usr/lib/x86_64-linux-gnu/ld-linux-x86-64.so.2]\n",
      "    966,411 ( 0.13%)  scripts/brute_force.cpp:readGraph(std::__cxx11::basic_string<char, std::char_traits<char>, std::allocator<char> > const&, int&, int&) [/home/gabrielhso/Desktop/insper/2023.2/superComp/maximum-clique-detection/scripts/brute_force]\n",
      "    707,911 ( 0.09%)  /usr/include/c++/11/ext/new_allocator.h:main\n",
      "    677,073 ( 0.09%)  ./malloc/./malloc/arena.c:free\n",
      "\n",
      "--------------------------------------------------------------------------------\n",
      "-- User-annotated source: scripts/brute_force.cpp\n",
      "--------------------------------------------------------------------------------\n",
      "Ir                   \n",
      "\n",
      "-- line 4 ----------------------------------------\n",
      "          .           #include <fstream>\n",
      "          .           #include <algorithm>\n",
      "          .           \n",
      "          .           using namespace std;\n",
      "          .           \n",
      "          .           bool sort_by_id(int id_1, int id_2) { return (id_1 < id_2); }\n",
      "          .           \n",
      "          .           vector<vector<int>> readGraph(const string &fileName, int &numNodes, int &numEdges)\n",
      "         15 ( 0.00%)  {\n",
      "          .               ifstream file(fileName);\n",
      "          6 ( 0.00%)      file >> numNodes >> numEdges;\n",
      "      6,625 ( 0.00%)  => ???:0x000000000010a330 (2x)\n",
      "          .           \n",
      "          2 ( 0.00%)      vector<vector<int>> graph(numNodes, vector<int>(numNodes, 0));\n",
      "          .           \n",
      "    148,679 ( 0.02%)      for (int i = 0; i < numEdges; ++i)\n",
      "          .               {\n",
      "          .                   int u, v;\n",
      "    223,009 ( 0.03%)          file >> u >> v;\n",
      " 34,874,704 ( 4.66%)  => ???:0x000000000010a330 (74,336x)\n",
      "    297,344 ( 0.04%)          graph[u - 1][v - 1] = 1;\n",
      "    297,344 ( 0.04%)          graph[v - 1][u - 1] = 1;\n",
      "          .               }\n",
      "          .           \n",
      "          .               file.close();\n",
      "          .           \n",
      "          .               return graph;\n",
      "         12 ( 0.00%)  }\n",
      "          .           \n",
      "          .           void printIntVector(vector<int> &vector)\n",
      "          .           {\n",
      "          .               for (unsigned int i = 0; i < vector.size(); i++)\n",
      "          .               {\n",
      "          .                   cout << vector[i] << \" \";\n",
      "          .               }\n",
      "          .           \n",
      "          .               cout << endl;\n",
      "          .           }\n",
      "          .           \n",
      "          .           void printOutput(vector<int> &maximumClique)\n",
      "          9 ( 0.00%)  {\n",
      "          .               cout << \"Size of the maximum clique: \" << maximumClique.size() << endl;\n",
      "          .               cout << \"Maximum clique found:\" << endl;\n",
      "          .               cout << \"[\";\n",
      "          .           \n",
      "          .               sort(maximumClique.begin(), maximumClique.end(), sort_by_id);\n",
      "          .           \n",
      "          .               unsigned int i = 0;\n",
      "          .           \n",
      "         42 ( 0.00%)      for (i = 0; i < maximumClique.size() - 1; i++)\n",
      "          .               {\n",
      "         40 ( 0.00%)          cout << maximumClique[i] + 1 << \", \";\n",
      "      5,613 ( 0.00%)  => ???:0x000000000010a4a0 (8x)\n",
      "          .               }\n",
      "          .           \n",
      "          5 ( 0.00%)      cout << maximumClique[i] + 1 << \"]\" << endl;\n",
      "        440 ( 0.00%)  => ???:0x000000000010a4a0 (1x)\n",
      "          7 ( 0.00%)  }\n",
      "          .           \n",
      "          .           int main(int argc, char *argv[])\n",
      "         11 ( 0.00%)  {\n",
      "          2 ( 0.00%)      if (argc != 2)\n",
      "          .               {\n",
      "          .                   cout << \"Run the program with the graph file as an argument (e.g., ./main graph.txt)\" << endl;\n",
      "          .                   return 1;\n",
      "          .               }\n",
      "          .           \n",
      "          1 ( 0.00%)      string fileName = argv[1];\n",
      "          .           \n",
      "          .               int numNodes, numEdges;\n",
      "          .           \n",
      "          7 ( 0.00%)      vector<vector<int>> graph = readGraph(fileName, numNodes, numEdges);\n",
      " 36,203,612 ( 4.83%)  => scripts/brute_force.cpp:readGraph(std::__cxx11::basic_string<char, std::char_traits<char>, std::allocator<char> > const&, int&, int&) (1x)\n",
      "          .           \n",
      "          .               vector<int> maximumClique;\n",
      "      2,504 ( 0.00%)      for (int currentNode = 0; currentNode < numNodes; currentNode++)\n",
      "          .               {\n",
      "          .                   vector<int> connections;\n",
      "  1,152,172 ( 0.15%)          for (int node = 0; node < numNodes; node++)\n",
      "          .                   {\n",
      "  1,500,000 ( 0.20%)              if (graph[currentNode][node] == 1)\n",
      "          .                           connections.push_back(node);\n",
      "          .                   }\n",
      "          .           \n",
      "    224,508 ( 0.03%)          for (int connection1 : connections)\n",
      "          .                   {\n",
      "          .                       vector<int> clique = {currentNode, connection1}; // Move initialization here\n",
      " 55,615,986 ( 7.43%)              for (int connection2 : connections)\n",
      "          .                       {\n",
      " 11,108,330 ( 1.48%)                  bool inClique = true;\n",
      "180,942,466 (24.16%)                  for (int member : clique)\n",
      "          .                           {\n",
      "116,925,534 (15.61%)                      if (graph[member][connection2] == 0)\n",
      "180,942,466 (24.16%)                          inClique = false;\n",
      "          .                           }\n",
      " 22,216,660 ( 2.97%)                  if (inClique)\n",
      "          .                               clique.push_back(connection2);\n",
      "          .                       }\n",
      "    148,672 ( 0.02%)              if (clique.size() > maximumClique.size())\n",
      "          .                           maximumClique = clique;\n",
      "          .                   }\n",
      "          .               }\n",
      "          .           \n",
      "          2 ( 0.00%)      printOutput(maximumClique);\n",
      "     19,640 ( 0.00%)  => scripts/brute_force.cpp:printOutput(std::vector<int, std::allocator<int> >&) (1x)\n",
      "          .           \n",
      "          1 ( 0.00%)      return 0;\n",
      "         16 ( 0.00%)  }     98,093 ( 0.01%)  => /usr/include/c++/11/bits/stl_vector.h:std::vector<std::vector<int, std::allocator<int> >, std::allocator<std::vector<int, std::allocator<int> > > >::~vector() (1x)\n",
      "\n",
      "--------------------------------------------------------------------------------\n",
      "Ir                   \n",
      "--------------------------------------------------------------------------------\n",
      "571,745,852 (76.34%)  events annotated\n",
      "\n"
     ]
    }
   ],
   "source": [
    "!callgrind_annotate callgrind.out.5994 scripts/brute_force.cpp --auto=no"
   ]
  },
  {
   "cell_type": "markdown",
   "metadata": {},
   "source": [
    "Ao expandir a saída do `annotate`, é possível enxergar que as partes do código com maior proporção de execuções destinadas são:\n",
    "\n",
    "Scripts e biblioteca\n",
    " - 76.21%: `brute_force.cpp` (o próprio código em c)\n",
    " - 12.04%: `stl_vector.h:main` (biblioteca vector)\n",
    " - 11.75%: outras bibliotecas\n",
    "\n",
    "Não temos uma maneira de melhorar o código da biblioteca, então teremos que nos ater à mudança no nosso código.\n",
    "\n",
    "Dentre as partes do programa, nota-se que: \n",
    " - 4.83% das execuções são na função de ler o grafo `ReadGraph`\n",
    " - 75,83% das execuções ocorrem na seguinte parte:\n",
    "\n",
    "```c++\n",
    "( 0.03%)           for (int connection1 : connections)\n",
    "                   {\n",
    "                       vector<int> clique = {currentNode, connection1}; // Move initialization here\n",
    "( 7.43%)               for (int connection2 : connections)\n",
    "                       {\n",
    "( 1.48%)                   bool inClique = true;\n",
    "(24.16%)                   for (int member : clique)\n",
    "                           {\n",
    "(15.61%)                       if (graph[member][connection2] == 0)\n",
    "(24.16%)                       inClique = false;\n",
    "                           }\n",
    "( 2.97%)                    if (inClique)\n",
    "                                clique.push_back(connection2);\n",
    "                        }\n",
    "( 0.02%)                if (clique.size() > maximumClique.size())\n",
    "                        maximumClique = clique;\n",
    "                   }\n",
    "               }\n",
    "```"
   ]
  },
  {
   "cell_type": "markdown",
   "metadata": {},
   "source": [
    "Esse código resolve o problema, mas devido ao alto número de dependências é possível "
   ]
  }
 ],
 "metadata": {
  "kernelspec": {
   "display_name": "Python 3",
   "language": "python",
   "name": "python3"
  },
  "language_info": {
   "codemirror_mode": {
    "name": "ipython",
    "version": 3
   },
   "file_extension": ".py",
   "mimetype": "text/x-python",
   "name": "python",
   "nbconvert_exporter": "python",
   "pygments_lexer": "ipython3",
   "version": "3.10.12"
  }
 },
 "nbformat": 4,
 "nbformat_minor": 2
}
