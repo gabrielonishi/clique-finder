{
 "cells": [
  {
   "cell_type": "markdown",
   "metadata": {},
   "source": [
    "# Solution Report\n",
    "\n",
    "This file aims to study each approach, detailing it's main strategy as well as weighting in on it's advantages and disadvantages\n",
    "\n",
    "**Important Note:** If you want to run this report, be sure you are using a **Linux** distribution\n",
    "\n",
    "### Index\n",
    " - Setting up the Environment\n",
    " - Brute-Force\n",
    " - Open-MP\n",
    " - MPI\n",
    " - Comparison\n",
    "\n",
    "## Setting up the Environment\n",
    "\n",
    "To generate the example graphs, as well as checking if the cliques we found are correct, the `networkx` library is used. Let's make sure that this library is installed"
   ]
  },
  {
   "cell_type": "code",
   "execution_count": 2,
   "metadata": {},
   "outputs": [
    {
     "name": "stdout",
     "output_type": "stream",
     "text": [
      "Defaulting to user installation because normal site-packages is not writeable\n",
      "Requirement already satisfied: networkx in /home/gabrielhso/.local/lib/python3.10/site-packages (2.6.3)\n",
      "Note: you may need to restart the kernel to use updated packages.\n"
     ]
    }
   ],
   "source": [
    "%pip install networkx"
   ]
  },
  {
   "cell_type": "markdown",
   "metadata": {},
   "source": [
    "Note that there aren't any graphs in the directory currently. Let's generate them using the `generate_graph.py` in the `scripts` folder. We will generate just one graph for now to be used as a test for the algorithms."
   ]
  },
  {
   "cell_type": "code",
   "execution_count": 3,
   "metadata": {},
   "outputs": [
    {
     "name": "stdout",
     "output_type": "stream",
     "text": [
      "Graph generated and saved at /home/gabrielhso/Desktop/insper/2023.2/superComp/maximum-clique-detection/graphs'.\n"
     ]
    }
   ],
   "source": [
    "# generate_graph.py args: argv[1] = n_edges, argv[2] = probability of connection, argv[3] = filename\n",
    "%run scripts/generate_graph.py 500 0.3 test_graph.txt"
   ]
  },
  {
   "cell_type": "markdown",
   "metadata": {},
   "source": [
    "## Brute-Force\n",
    "\n",
    "### Description\n",
    "The brute force approach to finding the maximum clique in a graph is a method that systematically explores all possible combinations of vertices to identify the largest complete subgraph, known as a clique. It starts with an initial vertex and iteratively adds vertices to a candidate clique, checking if the addition maintains the clique property. This exhaustive approach guarantees the optimality of the solution, but its computational complexity grows exponentially with the number of vertices, making it impractical for large graphs.\n",
    "\n",
    "### Running the Code\n",
    "\n",
    "As we will evaluate the efficiency of the algorithim itself, we won't compile it with the optimization options of the compiler (-O flag). Also, we will use the -g to include debug symbols.\n"
   ]
  },
  {
   "cell_type": "code",
   "execution_count": 4,
   "metadata": {},
   "outputs": [],
   "source": [
    "# Compiling\n",
    "!g++ -Wall -O3 -g scripts/brute_force.cpp -o ./executables/brute_force"
   ]
  },
  {
   "cell_type": "code",
   "execution_count": 5,
   "metadata": {},
   "outputs": [
    {
     "name": "stdout",
     "output_type": "stream",
     "text": [
      "Size of the maximum clique: 9\n",
      "Maximum clique found:\n",
      "[8, 14, 57, 127, 232, 288, 342, 468, 480]\n",
      "Tempo de execução: 62 ms\n"
     ]
    }
   ],
   "source": [
    "# Running\n",
    "!./executables/brute_force graphs/test_graph.txt"
   ]
  },
  {
   "cell_type": "markdown",
   "metadata": {},
   "source": [
    "Let's check the answer using the `check_answer.py` file"
   ]
  },
  {
   "cell_type": "code",
   "execution_count": 6,
   "metadata": {},
   "outputs": [
    {
     "name": "stdout",
     "output_type": "stream",
     "text": [
      "Size of the maximum clique:  9\n",
      "Maximum cliques found:\n",
      "[8, 14, 57, 127, 232, 288, 342, 468, 480]\n"
     ]
    }
   ],
   "source": [
    "%run scripts/check_answer.py graphs/test_graph.txt"
   ]
  },
  {
   "cell_type": "markdown",
   "metadata": {},
   "source": [
    "The answer checks out! Now let's have a look at the performance of the code"
   ]
  },
  {
   "cell_type": "code",
   "execution_count": 7,
   "metadata": {},
   "outputs": [
    {
     "name": "stdout",
     "output_type": "stream",
     "text": [
      "==5771== Callgrind, a call-graph generating cache profiler\n",
      "==5771== Copyright (C) 2002-2017, and GNU GPL'd, by Josef Weidendorfer et al.\n",
      "==5771== Using Valgrind-3.18.1 and LibVEX; rerun with -h for copyright info\n",
      "==5771== Command: ./executables/brute_force graphs/test_graph.txt\n",
      "==5771== \n",
      "==5771== For interactive control, run 'callgrind_control -h'.\n",
      "Size of the maximum clique: 9\n",
      "Maximum clique found:\n",
      "[8, 14, 57, 127, 232, 288, 342, 468, 480]\n",
      "Tempo de execução: 2130 ms\n",
      "==5771== \n",
      "==5771== Events    : Ir\n",
      "==5771== Collected : 760396648\n",
      "==5771== \n",
      "==5771== I   refs:      760,396,648\n"
     ]
    }
   ],
   "source": [
    "!valgrind --tool=callgrind --callgrind-out-file=brute_force.out ./executables/brute_force graphs/test_graph.txt"
   ]
  },
  {
   "cell_type": "code",
   "execution_count": 8,
   "metadata": {},
   "outputs": [
    {
     "name": "stdout",
     "output_type": "stream",
     "text": [
      "--------------------------------------------------------------------------------\n",
      "Profile data file 'brute_force.out' (creator: callgrind-3.18.1)\n",
      "--------------------------------------------------------------------------------\n",
      "I1 cache: \n",
      "D1 cache: \n",
      "LL cache: \n",
      "Timerange: Basic block 0 - 107882781\n",
      "Trigger: Program termination\n",
      "Profiled target:  ./executables/brute_force graphs/test_graph.txt (PID 5771, part 1)\n",
      "Events recorded:  Ir\n",
      "Events shown:     Ir\n",
      "Event sort order: Ir\n",
      "Thresholds:       99\n",
      "Include dirs:     \n",
      "User annotated:   scripts/brute_force.cpp\n",
      "Auto-annotation:  off\n",
      "\n",
      "--------------------------------------------------------------------------------\n",
      "Ir                   \n",
      "--------------------------------------------------------------------------------\n",
      "760,396,648 (100.0%)  PROGRAM TOTALS\n",
      "\n",
      "--------------------------------------------------------------------------------\n",
      "Ir                    file:function\n",
      "--------------------------------------------------------------------------------\n",
      "580,068,584 (76.29%)  scripts/brute_force.cpp:main [/home/gabrielhso/Desktop/insper/2023.2/superComp/maximum-clique-detection/executables/brute_force]\n",
      " 91,583,540 (12.04%)  /usr/include/c++/11/bits/stl_vector.h:main\n",
      " 20,075,518 ( 2.64%)  ???:std::istreambuf_iterator<char, std::char_traits<char> > std::num_get<char, std::istreambuf_iterator<char, std::char_traits<char> > >::_M_extract_int<long>(std::istreambuf_iterator<char, std::char_traits<char> >, std::istreambuf_iterator<char, std::char_traits<char> >, std::ios_base&, std::_Ios_Iostate&, long&) const [/usr/lib/x86_64-linux-gnu/libstdc++.so.6.0.30]\n",
      " 14,598,753 ( 1.92%)  ./malloc/./malloc/malloc.c:_int_free [/usr/lib/x86_64-linux-gnu/libc.so.6]\n",
      "  9,483,114 ( 1.25%)  ./malloc/./malloc/malloc.c:malloc [/usr/lib/x86_64-linux-gnu/libc.so.6]\n",
      "  5,007,574 ( 0.66%)  ./malloc/./malloc/malloc.c:free [/usr/lib/x86_64-linux-gnu/libc.so.6]\n",
      "  4,642,586 ( 0.61%)  ???:std::istream::sentry::sentry(std::istream&, bool) [/usr/lib/x86_64-linux-gnu/libstdc++.so.6.0.30]\n",
      "  4,261,440 ( 0.56%)  /usr/include/c++/11/bits/vector.tcc:void std::vector<int, std::allocator<int> >::_M_realloc_insert<int const&>(__gnu_cxx::__normal_iterator<int*, std::vector<int, std::allocator<int> > >, int const&) [/home/gabrielhso/Desktop/insper/2023.2/superComp/maximum-clique-detection/executables/brute_force]\n",
      "  4,043,520 ( 0.53%)  ???:std::istream::operator>>(int&) [/usr/lib/x86_64-linux-gnu/libstdc++.so.6.0.30]\n",
      "  2,731,392 ( 0.36%)  ???:operator new(unsigned long) [/usr/lib/x86_64-linux-gnu/libstdc++.so.6.0.30]\n",
      "  2,588,910 ( 0.34%)  /usr/include/c++/11/bits/stl_vector.h:void std::vector<int, std::allocator<int> >::_M_realloc_insert<int const&>(__gnu_cxx::__normal_iterator<int*, std::vector<int, std::allocator<int> > >, int const&)\n",
      "  2,471,040 ( 0.32%)  ???:0x000000000012faf0 [/usr/lib/x86_64-linux-gnu/libstdc++.so.6.0.30]\n",
      "  2,130,220 ( 0.28%)  /usr/include/c++/11/ext/new_allocator.h:void std::vector<int, std::allocator<int> >::_M_realloc_insert<int const&>(__gnu_cxx::__normal_iterator<int*, std::vector<int, std::allocator<int> > >, int const&)\n",
      "  1,980,908 ( 0.26%)  ./string/../sysdeps/x86_64/multiarch/memmove-vec-unaligned-erms.S:__memcpy_avx_unaligned_erms [/usr/lib/x86_64-linux-gnu/libc.so.6]\n",
      "  1,673,530 ( 0.22%)  /usr/include/c++/11/bits/stl_uninitialized.h:void std::vector<int, std::allocator<int> >::_M_realloc_insert<int const&>(__gnu_cxx::__normal_iterator<int*, std::vector<int, std::allocator<int> > >, int const&)\n",
      "  1,572,711 ( 0.21%)  ???:0x000000000012b240 [/usr/lib/x86_64-linux-gnu/libstdc++.so.6.0.30]\n",
      "  1,123,200 ( 0.15%)  ???:0x0000000000103500 [/usr/lib/x86_64-linux-gnu/libstdc++.so.6.0.30]\n",
      "    998,210 ( 0.13%)  ./elf/./elf/dl-lookup.c:_dl_lookup_symbol_x [/usr/lib/x86_64-linux-gnu/ld-linux-x86-64.so.2]\n",
      "    973,457 ( 0.13%)  scripts/brute_force.cpp:readGraph(std::__cxx11::basic_string<char, std::char_traits<char>, std::allocator<char> > const&, int&, int&) [/home/gabrielhso/Desktop/insper/2023.2/superComp/maximum-clique-detection/executables/brute_force]\n",
      "    714,816 ( 0.09%)  /usr/include/c++/11/ext/new_allocator.h:main\n",
      "    682,851 ( 0.09%)  ./malloc/./malloc/arena.c:free\n",
      "\n",
      "--------------------------------------------------------------------------------\n",
      "-- User-annotated source: scripts/brute_force.cpp\n",
      "--------------------------------------------------------------------------------\n",
      "Ir                   \n",
      "\n",
      "-- line 6 ----------------------------------------\n",
      "          .           \n",
      "          .           #include <chrono>\n",
      "          .           \n",
      "          .           using namespace std;\n",
      "          .           \n",
      "          .           bool sort_by_id(int id_1, int id_2) { return (id_1 < id_2); }\n",
      "          .           \n",
      "          .           vector<vector<int>> readGraph(const string &fileName, int &numNodes, int &numEdges)\n",
      "         15 ( 0.00%)  {\n",
      "          .               ifstream file(fileName);\n",
      "          6 ( 0.00%)      file >> numNodes >> numEdges;\n",
      "      6,625 ( 0.00%)  => ???:0x000000000010a360 (2x)\n",
      "          .           \n",
      "          2 ( 0.00%)      vector<vector<int>> graph(numNodes, vector<int>(numNodes, 0));\n",
      "          .           \n",
      "    149,763 ( 0.02%)      for (int i = 0; i < numEdges; ++i)\n",
      "          .               {\n",
      "          .                   int u, v;\n",
      "    224,635 ( 0.03%)          file >> u >> v;\n",
      " 35,129,596 ( 4.62%)  => ???:0x000000000010a360 (74,878x)\n",
      "    299,512 ( 0.04%)          graph[u - 1][v - 1] = 1;\n",
      "    299,512 ( 0.04%)          graph[v - 1][u - 1] = 1;\n",
      "          .               }\n",
      "          .           \n",
      "          .               file.close();\n",
      "          .           \n",
      "          .               return graph;\n",
      "         12 ( 0.00%)  }\n",
      "          .           \n",
      "          .           void printIntVector(vector<int> &vector)\n",
      "          .           {\n",
      "          .               for (unsigned int i = 0; i < vector.size(); i++)\n",
      "          .               {\n",
      "          .                   cout << vector[i] << \" \";\n",
      "          .               }\n",
      "          .           \n",
      "          .               cout << endl;\n",
      "          .           }\n",
      "          .           \n",
      "          .           void printOutput(vector<int> &maximumClique)\n",
      "          9 ( 0.00%)  {\n",
      "          .               cout << \"Size of the maximum clique: \" << maximumClique.size() << endl;\n",
      "          .               cout << \"Maximum clique found:\" << endl;\n",
      "          .               cout << \"[\";\n",
      "          .           \n",
      "          .               sort(maximumClique.begin(), maximumClique.end(), sort_by_id);\n",
      "          .           \n",
      "          .               unsigned int i = 0;\n",
      "          .           \n",
      "         42 ( 0.00%)      for (i = 0; i < maximumClique.size() - 1; i++)\n",
      "          .               {\n",
      "         40 ( 0.00%)          cout << maximumClique[i] + 1 << \", \";\n",
      "      5,592 ( 0.00%)  => ???:0x000000000010a4e0 (8x)\n",
      "          .               }\n",
      "          .           \n",
      "          5 ( 0.00%)      cout << maximumClique[i] + 1 << \"]\" << endl;\n",
      "        440 ( 0.00%)  => ???:0x000000000010a4e0 (1x)\n",
      "          7 ( 0.00%)  }\n",
      "          .           \n",
      "          .           int main(int argc, char *argv[])\n",
      "         13 ( 0.00%)  {\n",
      "          2 ( 0.00%)      auto inicio = chrono::high_resolution_clock::now();\n",
      "        881 ( 0.00%)  => ???:0x000000000010a2c0 (1x)\n",
      "          .           \n",
      "          2 ( 0.00%)      if (argc != 2)\n",
      "          .               {\n",
      "          .                   cout << \"Run the program with the graph file as an argument (e.g., ./main graph.txt)\" << endl;\n",
      "          .                   return 1;\n",
      "          .               }\n",
      "          .           \n",
      "          1 ( 0.00%)      string fileName = argv[1];\n",
      "          .           \n",
      "          .               int numNodes, numEdges;\n",
      "          .           \n",
      "          7 ( 0.00%)      vector<vector<int>> graph = readGraph(fileName, numNodes, numEdges);\n",
      " 36,466,363 ( 4.80%)  => scripts/brute_force.cpp:readGraph(std::__cxx11::basic_string<char, std::char_traits<char>, std::allocator<char> > const&, int&, int&) (1x)\n",
      "          .           \n",
      "          .               vector<int> maximumClique;\n",
      "      2,504 ( 0.00%)      for (int currentNode = 0; currentNode < numNodes; currentNode++)\n",
      "          .               {\n",
      "          .                   vector<int> connections;\n",
      "  1,153,256 ( 0.15%)          for (int node = 0; node < numNodes; node++)\n",
      "          .                   {\n",
      "  1,500,000 ( 0.20%)              if (graph[currentNode][node] == 1)\n",
      "          .                           connections.push_back(node);\n",
      "          .                   }\n",
      "          .           \n",
      "    226,134 ( 0.03%)          for (int connection1 : connections)\n",
      "          .                   {\n",
      "          .                       vector<int> clique = {currentNode, connection1};\n",
      " 56,388,428 ( 7.42%)              for (int connection2 : connections)\n",
      "          .                       {\n",
      " 11,262,710 ( 1.48%)                  bool inClique = true;\n",
      "183,980,464 (24.20%)                  for (int member : clique)\n",
      "          .                           {\n",
      "118,899,406 (15.64%)                      if (graph[member][connection2] == 0)\n",
      "183,980,464 (24.20%)                          inClique = false;\n",
      "          .                           }\n",
      " 22,525,420 ( 2.96%)                  if (inClique)\n",
      "          .                               clique.push_back(connection2);\n",
      "          .                       }\n",
      "    149,756 ( 0.02%)              if (clique.size() > maximumClique.size())\n",
      "          .                           maximumClique = clique;\n",
      "          .                   }\n",
      "          .               }\n",
      "          .           \n",
      "          2 ( 0.00%)      printOutput(maximumClique);\n",
      "     19,622 ( 0.00%)  => scripts/brute_force.cpp:printOutput(std::vector<int, std::allocator<int> >&) (1x)\n",
      "          .           \n",
      "          1 ( 0.00%)      auto fim = chrono::high_resolution_clock::now();\n",
      "         30 ( 0.00%)  => ???:0x000000000010a2c0 (1x)\n",
      "          .               auto duracao = chrono::duration_cast<std::chrono::milliseconds>(fim - inicio);\n",
      "          .               cout << \"Tempo de execução: \" << duracao.count() << \" ms\\n\";\n",
      "          .               \n",
      "          1 ( 0.00%)      return 0;\n",
      "         16 ( 0.00%)  }     98,093 ( 0.01%)  => /usr/include/c++/11/bits/stl_vector.h:std::vector<std::vector<int, std::allocator<int> >, std::allocator<std::vector<int, std::allocator<int> > > >::~vector() (1x)\n",
      "\n",
      "--------------------------------------------------------------------------------\n",
      "Ir                   \n",
      "--------------------------------------------------------------------------------\n",
      "581,042,147 (76.41%)  events annotated\n",
      "\n"
     ]
    }
   ],
   "source": [
    "!callgrind_annotate brute_force.out scripts/brute_force.cpp --auto=no"
   ]
  },
  {
   "cell_type": "markdown",
   "metadata": {},
   "source": [
    "Ao expandir a saída do `annotate`, é possível enxergar que as partes do código com maior proporção de execuções destinadas são:\n",
    "\n",
    "Scripts e biblioteca\n",
    " - 76.21%: `brute_force.cpp` (o próprio código em c)\n",
    " - 12.04%: `stl_vector.h:main` (biblioteca vector)\n",
    " - 11.75%: outras bibliotecas\n",
    "\n",
    "Não temos uma maneira de melhorar o código da biblioteca, então teremos que nos ater à mudança no nosso código.\n",
    "\n",
    "Dentre as partes do programa, nota-se que: \n",
    " - 4.83% das execuções são na função de ler o grafo `ReadGraph`\n",
    " - 75,83% das execuções ocorrem na seguinte parte:\n",
    "\n",
    "```c++\n",
    "( 0.03%)           for (int connection1 : connections)\n",
    "                   {\n",
    "                       vector<int> clique = {currentNode, connection1}; // Move initialization here\n",
    "( 7.43%)               for (int connection2 : connections)\n",
    "                       {\n",
    "( 1.48%)                   bool inClique = true;\n",
    "(24.16%)                   for (int member : clique)\n",
    "                           {\n",
    "(15.61%)                       if (graph[member][connection2] == 0)\n",
    "(24.16%)                       inClique = false;\n",
    "                           }\n",
    "( 2.97%)                    if (inClique)\n",
    "                                clique.push_back(connection2);\n",
    "                        }\n",
    "( 0.02%)                if (clique.size() > maximumClique.size())\n",
    "                        maximumClique = clique;\n",
    "                   }\n",
    "               }\n",
    "```"
   ]
  },
  {
   "cell_type": "markdown",
   "metadata": {},
   "source": [
    "It seems that the issue is in the inner loops. Let's try to parallelize the code to make it faster."
   ]
  },
  {
   "cell_type": "markdown",
   "metadata": {},
   "source": [
    "## Open-MP"
   ]
  },
  {
   "cell_type": "markdown",
   "metadata": {},
   "source": [
    "### Description\n",
    "\n",
    "OpenMP stands for Open Multi-Processing. It's a widely used API (Application Programming Interface) for shared-memory multiprocessing programming in C, C++, and Fortran. It simplifies parallel programming by using compiler directives to enable parallelism in code.\n",
    "\n",
    "By adding a simple directive before the outer-loop, we can divide the code into threads. However, we need to be careful as the comparison at the end of the algorithm creates a dependence between threads, needing the `critical` directive.\n",
    "\n",
    "```cpp\n",
    "\n",
    "    vector<int> maximumClique;\n",
    "\n",
    "    #pragma omp parallel for\n",
    "    for (int currentNode = 0; currentNode < numNodes; currentNode++)\n",
    "    {\n",
    "        // Pega todas as conexões\n",
    "        vector<int> connections;\n",
    "        for (int node = 0; node < numNodes; node++)\n",
    "        {\n",
    "            if (graph[currentNode][node] == 1)\n",
    "                connections.push_back(node);\n",
    "        }\n",
    "\n",
    "        // Para cada conexão do nó atual...\n",
    "        for (int connection1 : connections)\n",
    "        {\n",
    "            // rest of the code ...\n",
    "\n",
    "        #pragma omp critical\n",
    "            if (clique.size() > maximumClique.size())\n",
    "                maximumClique = clique;\n",
    "        }\n",
    "    }\n",
    "```\n",
    "\n",
    "### Running the code"
   ]
  },
  {
   "cell_type": "markdown",
   "metadata": {},
   "source": [
    "We need to run openMP files with the `-fopenmp` flag:"
   ]
  },
  {
   "cell_type": "code",
   "execution_count": 9,
   "metadata": {},
   "outputs": [],
   "source": [
    "# Compiling\n",
    "!g++ -Wall -O3 -fopenmp scripts/open_mp.cpp -o ./executables/open_mp"
   ]
  },
  {
   "cell_type": "code",
   "execution_count": 10,
   "metadata": {},
   "outputs": [
    {
     "name": "stdout",
     "output_type": "stream",
     "text": [
      "Size of the maximum clique: 9\n",
      "Maximum clique found:\n",
      "[8, 14, 57, 127, 232, 288, 342, 468, 480]\n",
      "Tempo de execução: 50 ms\n"
     ]
    }
   ],
   "source": [
    "# Running\n",
    "!./executables/open_mp graphs/test_graph.txt"
   ]
  },
  {
   "cell_type": "markdown",
   "metadata": {},
   "source": [
    "## MPI\n",
    "\n",
    "### Description\n",
    "OpenMP parallelizes into cores inside one computer. The next step is parallelizing between different computers working in a network - in a cluster! To do so, we need to use MPI, which is a communication protocol allowing different nodes or processes across a networked cluster to exchange data and coordinate parallel computations efficiently.\n",
    "\n",
    "### Running the Code\n",
    "\n",
    "The most popular schedualer for running on clusters is Slurm. Slurm is an open-source job scheduler used in high-performance computing (HPC) environments. It manages and schedules the allocation of resources like processors and memory for running jobs on clusters or supercomputers.\n",
    "\n",
    "Unfortunatly, MPI doesn't allow us to exchange 2D vectors between tasks. Therefore, we need to refactor the graph to a one-dimentional vector.\n",
    "\n",
    "Besides creating a new script, available at `scripts/mpi_flatten`, it was necessary to create a `mpi_flatten.slurm` file. This file contains the instructions to run on the cluster."
   ]
  },
  {
   "cell_type": "markdown",
   "metadata": {},
   "source": [
    "## Comparison"
   ]
  },
  {
   "cell_type": "markdown",
   "metadata": {},
   "source": [
    "Making graphs of different sizes"
   ]
  },
  {
   "cell_type": "code",
   "execution_count": 11,
   "metadata": {},
   "outputs": [
    {
     "name": "stdout",
     "output_type": "stream",
     "text": [
      "Graph generated and saved at /home/gabrielhso/Desktop/insper/2023.2/superComp/maximum-clique-detection/graphs'.\n",
      "Graph generated and saved at /home/gabrielhso/Desktop/insper/2023.2/superComp/maximum-clique-detection/graphs'.\n",
      "Graph generated and saved at /home/gabrielhso/Desktop/insper/2023.2/superComp/maximum-clique-detection/graphs'.\n",
      "Graph generated and saved at /home/gabrielhso/Desktop/insper/2023.2/superComp/maximum-clique-detection/graphs'.\n",
      "Graph generated and saved at /home/gabrielhso/Desktop/insper/2023.2/superComp/maximum-clique-detection/graphs'.\n",
      "Graph generated and saved at /home/gabrielhso/Desktop/insper/2023.2/superComp/maximum-clique-detection/graphs'.\n",
      "Graph generated and saved at /home/gabrielhso/Desktop/insper/2023.2/superComp/maximum-clique-detection/graphs'.\n",
      "Graph generated and saved at /home/gabrielhso/Desktop/insper/2023.2/superComp/maximum-clique-detection/graphs'.\n",
      "Graph generated and saved at /home/gabrielhso/Desktop/insper/2023.2/superComp/maximum-clique-detection/graphs'.\n",
      "Graph generated and saved at /home/gabrielhso/Desktop/insper/2023.2/superComp/maximum-clique-detection/graphs'.\n"
     ]
    }
   ],
   "source": [
    "#Making graphs of sizes 100, 200, 300, 400, 500, 600, 700, 800, 900, 1000\n",
    "sizes = [100, 200, 300, 400, 500, 600, 700, 800, 900, 1000]\n",
    "graph_names = list()\n",
    "\n",
    "for size in sizes:\n",
    "    %run scripts/generate_graph.py {size} 0.5 graph_{size}\n",
    "    graph_names.append(f\"graph_{size}.txt\")\n"
   ]
  },
  {
   "cell_type": "markdown",
   "metadata": {},
   "source": [
    "Fetching data from `brute_force.cpp` and `open_mp.cpp` files"
   ]
  },
  {
   "cell_type": "code",
   "execution_count": 12,
   "metadata": {},
   "outputs": [
    {
     "name": "stdout",
     "output_type": "stream",
     "text": [
      "['Tempo', 'de', 'execução:', '1', 'ms']\n",
      "1\n"
     ]
    }
   ],
   "source": [
    "# We can fetch the time data by splitting the program output\n",
    "output = !./executables/brute_force graphs/graph_100.txt\n",
    "print(output[-1].split(\" \"))\n",
    "print(output[-1].split(\" \")[-2])"
   ]
  },
  {
   "cell_type": "code",
   "execution_count": 13,
   "metadata": {},
   "outputs": [],
   "source": [
    "brute_force_times = list()\n",
    "open_mp_times = list()\n",
    "\n",
    "for graph in graph_names:\n",
    "    output_brute_force = !./executables/brute_force graphs/{graph}\n",
    "    brute_force_times.append(int(output_brute_force[-1].split(\" \")[-2]))\n",
    "    output_open_mp = !./executables/open_mp graphs/{graph}\n",
    "    open_mp_times.append(int(output_open_mp[-1].split(\" \")[-2]))"
   ]
  },
  {
   "cell_type": "code",
   "execution_count": 14,
   "metadata": {},
   "outputs": [],
   "source": [
    "job_ids = [i for i in range(654, 664)]\n",
    "MPI_times = list()\n",
    "\n",
    "for job_id in job_ids:\n",
    "    with open(f\"slurm-out/slurm-{job_id}.out\", \"r\") as f:\n",
    "        MPI_times.append(int(f.read().split(\" \")[-2]))\n"
   ]
  },
  {
   "cell_type": "code",
   "execution_count": 15,
   "metadata": {},
   "outputs": [
    {
     "name": "stdout",
     "output_type": "stream",
     "text": [
      "[1, 11, 37, 75, 146, 254, 420, 647, 936, 1227]\n",
      "[26, 19, 13, 30, 61, 110, 174, 262, 378, 520]\n",
      "[279, 309, 292, 292, 385, 510, 864, 928, 1179, 1614]\n"
     ]
    }
   ],
   "source": [
    "print(brute_force_times)\n",
    "print(open_mp_times)\n",
    "print(MPI_times)"
   ]
  },
  {
   "cell_type": "code",
   "execution_count": 16,
   "metadata": {},
   "outputs": [
    {
     "data": {
      "image/png": "[encoded data removed]",
      "text/plain": [
       "<Figure size 640x480 with 1 Axes>"
      ]
     },
     "metadata": {},
     "output_type": "display_data"
    }
   ],
   "source": [
    "import matplotlib.pyplot as plt\n",
    "\n",
    "# Plotting the graph\n",
    "plt.plot(sizes, brute_force_times, label='Brute Force')\n",
    "plt.plot(sizes, open_mp_times, label='Open MP')\n",
    "plt.plot(sizes, MPI_times, label='MPI')\n",
    "plt.xlabel('Number of Nodes')\n",
    "plt.ylabel('Time (ms)')\n",
    "plt.title('Comparison between implementations')\n",
    "plt.legend()\n",
    "plt.grid()\n",
    "plt.show()\n"
   ]
  },
  {
   "cell_type": "markdown",
   "metadata": {},
   "source": [
    "# Performance Analysis\n",
    "\n",
    "The time taken for exhaustive search also increases with graph size, as expected due to its inherent nature of exploring all possible combinations. However, it's consistently slower than OpenMP across all graph sizes, highlighting the efficiency gain achieved through parallelization.\n",
    "\n",
    "Albeit, the execution times for MPI vary inconsistently with the graph size. Unlike OpenMP, the times don't consistently decrease or increase with graph size. This unexpected behavior might indicate issues with the MPI implementation or the way the algorithm scales in a distributed environment. But why was that?\n",
    "\n",
    "Upon closer examination of the `.slurm` configuration file, it becomes evident that the job was configured to utilize only two nodes within the available cluster infrastructure. This restriction stemmed from the limited resources, restricting the computational capacity to these two nodes exclusively. Notably, the absence of further internal parallelization mechanisms, such as OpenMP, within each node resulted in a configuration where the nodes functioned akin to two individual threads. Due to the larger communication overhead between these nodes (in comparison to communication between cores in the same cpu), the overall efficiency was impacted.\n",
    "\n",
    "Additionally, the work environment significantly differed across these implementations. While the OpenMP and brute force algorithms were executed on my personal machine, the MPI implementation ran on a simulated cluster environment utilizing one physical machine communicating across three virtual machines (VMs). This setup inherently introduced complexities related to virtualization, network latency, and the coordination of processes across multiple simulated nodes.\n",
    "\n",
    "The disparity in execution environments could have notably influenced the MPI execution times, introducing overheads and bottlenecks associated with virtualized communication between nodes. These complexities, coupled with the constraints of simulating a cluster environment on a single machine, likely contributed to the inconsistent scaling observed in MPI execution times, deviating from the anticipated behavior."
   ]
  }
 ],
 "metadata": {
  "kernelspec": {
   "display_name": "Python 3",
   "language": "python",
   "name": "python3"
  },
  "language_info": {
   "codemirror_mode": {
    "name": "ipython",
    "version": 3
   },
   "file_extension": ".py",
   "mimetype": "text/x-python",
   "name": "python",
   "nbconvert_exporter": "python",
   "pygments_lexer": "ipython3",
   "version": "3.10.12"
  }
 },
 "nbformat": 4,
 "nbformat_minor": 2
}
